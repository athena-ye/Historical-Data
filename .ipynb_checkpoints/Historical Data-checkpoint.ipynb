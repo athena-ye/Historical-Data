{
 "cells": [
  {
   "cell_type": "code",
   "execution_count": null,
   "metadata": {},
   "outputs": [],
   "source": [
    "pip install pyarrow"
   ]
  },
  {
   "cell_type": "code",
   "execution_count": 3,
   "metadata": {},
   "outputs": [
    {
     "name": "stdout",
     "output_type": "stream",
     "text": [
      "wc: illegal option -- 1\r\n",
      "usage: wc [-clmw] [file ...]\r\n"
     ]
    }
   ],
   "source": [
    "import pandas as pd\n",
    "import numpy as np\n",
    "import matplotlib.pyplot as plt\n",
    "import seaborn as sns\n",
    "\n",
    "#pip.main(['install'] + ['pyarrow'])\n",
    "#import pyarrow.parquet as pq\n",
    "\n",
    "\n",
    "#yearly = '/Users/athenaye/Desktop/by_year/2001.csv.gz'\n",
    "ex = './Historical Data/%s.csv'\n",
    "path = ex % 'LCM'\n",
    "!wc -1 $psth"
   ]
  },
  {
   "cell_type": "markdown",
   "metadata": {},
   "source": [
    "## Background"
   ]
  },
  {
   "cell_type": "code",
   "execution_count": null,
   "metadata": {},
   "outputs": [],
   "source": [
    "twenty_sixteen_sample = pd.read_csv(\"/Users/athenaye/Desktop/by_year/2016.csv\", header = None, names = ['station', 'date', 'data', 'value', 'mflag', 'qflag', 'sflag', 'time'], usecols=[0,1,2,3])\n",
    "twenty_seventeen_sample = pd.read_csv(\"/Users/athenaye/Desktop/by_year/2017.csv\", header = None, names = ['station', 'date', 'data', 'value', 'mflag', 'qflag', 'sflag', 'time'], usecols=[0,1,2,3])\n",
    "twenty_eighteen_sample = pd.read_csv(\"/Users/athenaye/Desktop/by_year/2018.csv\", header = None, names = ['station', 'date', 'data', 'value', 'mflag', 'qflag', 'sflag', 'time'], usecols=[0,1,2,3])\n",
    "twenty_nineteen_sample = pd.read_csv(\"/Users/athenaye/Desktop/by_year/2019.csv\", header = None, names = ['station', 'date', 'data', 'value', 'mflag', 'qflag', 'sflag', 'time'], usecols=[0,1,2,3])\n",
    "twenty_twenty_sample = pd.read_csv(\"/Users/athenaye/Desktop/by_year/2020.csv\", header = None, names = ['station', 'date', 'data', 'value', 'mflag', 'qflag', 'sflag', 'time'], usecols=[0,1,2,3])"
   ]
  },
  {
   "cell_type": "code",
   "execution_count": null,
   "metadata": {},
   "outputs": [],
   "source": [
    "twenty_sixteen_sample['date'] = pd.to_datetime(twenty_sixteen_sample['date'], format='%Y%m%d')\n",
    "twenty_seventeen_sample['date'] = pd.to_datetime(twenty_seventeen_sample['date'], format='%Y%m%d')\n",
    "twenty_eighteen_sample['date'] = pd.to_datetime(twenty_eighteen_sample['date'], format='%Y%m%d')\n",
    "twenty_nineteen_sample['date'] = pd.to_datetime(twenty_nineteen_sample['date'], format='%Y%m%d')\n",
    "twenty_twenty_sample['date'] = pd.to_datetime(twenty_twenty_sample['date'], format='%Y%m%d')"
   ]
  },
  {
   "cell_type": "code",
   "execution_count": null,
   "metadata": {},
   "outputs": [],
   "source": [
    "twenty_sixteen = twenty_sixteen_sample.pivot(index = [\"date\", \"station\"], columns = \"data\", values = \"value\")\n",
    "twenty_seventeen = twenty_seventeen_sample.pivot(index = [\"date\", \"station\"], columns = \"data\", values = \"value\")\n",
    "twenty_eighteen = twenty_eighteen_sample.pivot(index = [\"date\", \"station\"], columns = \"data\", values = \"value\")\n",
    "twenty_nineteen = twenty_nineteen_sample.pivot(index = [\"date\", \"station\"], columns = \"data\", values = \"value\")\n",
    "twenty_twenty = twenty_twenty_sample.pivot(index = [\"date\", \"station\"], columns = \"data\", values = \"value\")"
   ]
  },
  {
   "cell_type": "code",
   "execution_count": null,
   "metadata": {},
   "outputs": [],
   "source": [
    "twenty_sixteen.to_parquet(\"/Users/athenaye/Desktop/by_year/2016.parquet\")"
   ]
  },
  {
   "cell_type": "code",
   "execution_count": null,
   "metadata": {},
   "outputs": [],
   "source": [
    "twenty_seventeen.to_parquet(\"/Users/athenaye/Desktop/by_year/2017.parquet\")\n",
    "twenty_eighteen.to_parquet(\"/Users/athenaye/Desktop/by_year/2018.parquet\")\n",
    "twenty_nineteen.to_parquet(\"/Users/athenaye/Desktop/by_year/2019.parquet\")\n",
    "twenty_twenty.to_parquet(\"/Users/athenaye/Desktop/by_year/2020.parquet\")"
   ]
  },
  {
   "cell_type": "markdown",
   "metadata": {},
   "source": [
    "## Start Here"
   ]
  },
  {
   "cell_type": "code",
   "execution_count": 5,
   "metadata": {},
   "outputs": [],
   "source": [
    "masterlist = ['AWDR', 'AWND','DAPR', 'DASF', 'DATN', 'DATX', 'DWPR', 'EVAP', 'MDPR', 'MDSF', 'MDTN', \n",
    " 'MDTX', 'MNPN', 'MXPN', 'PGTM', 'PRCP', 'PSUN', 'SN31', 'SN32', 'SN33', 'SN35', 'SN36', 'SN51', 'SN52', 'SN53', \n",
    " 'SN55', 'SN56', 'SNOW', 'SNWD', 'SX31', 'SX32', 'SX33', 'SX35', 'SX36', 'SX51', 'SX52', 'SX53', 'SX55', 'SX56', \n",
    " 'TAVG','THIC', 'TMAX', 'TMIN', 'TOBS', 'TSUN', 'WDF2', 'WDF5', 'WDFG', 'WDMV','WESD', 'WESF', 'WSF2', 'WSF5',\n",
    " 'WSFG', 'WSFI', 'WT01', 'WT02', 'WT03', 'WT04', 'WT05', 'WT06', 'WT07', 'WT08', 'WT09', 'WT10']\n",
    "#sixteen_through_twenty = np.append(twenty_sixteen, (twenty_seventeen,twenty_eighteen,twenty_nineteen,twenty_twenty))"
   ]
  },
  {
   "cell_type": "code",
   "execution_count": 6,
   "metadata": {},
   "outputs": [],
   "source": [
    "twenty_sixteen = pd.read_parquet(\"/Users/athenaye/Desktop/by_year/2016.parquet\", columns= masterlist)\n",
    "twenty_seventeen = pd.read_parquet(\"/Users/athenaye/Desktop/by_year/2017.parquet\", columns= masterlist)\n",
    "twenty_eighteen = pd.read_parquet(\"/Users/athenaye/Desktop/by_year/2018.parquet\", columns= masterlist)\n",
    "twenty_nineteen = pd.read_parquet(\"/Users/athenaye/Desktop/by_year/2019.parquet\", columns= masterlist)\n",
    "twenty_twenty = pd.read_parquet(\"/Users/athenaye/Desktop/by_year/2020.parquet\", columns= masterlist)"
   ]
  },
  {
   "cell_type": "code",
   "execution_count": 12,
   "metadata": {},
   "outputs": [
    {
     "data": {
      "text/plain": [
       "70236522"
      ]
     },
     "execution_count": 12,
     "metadata": {},
     "output_type": "execute_result"
    }
   ],
   "source": [
    "11706087* 6"
   ]
  },
  {
   "cell_type": "code",
   "execution_count": 33,
   "metadata": {},
   "outputs": [
    {
     "name": "stdout",
     "output_type": "stream",
     "text": [
      "date\n",
      "2016-01-01    229.0\n",
      "2016-01-02    243.0\n",
      "2016-01-03    204.0\n",
      "2016-01-04    192.0\n",
      "2016-01-05    188.0\n",
      "              ...  \n",
      "2020-12-27      0.0\n",
      "2020-12-28     -6.0\n",
      "2020-12-29     -6.0\n",
      "2020-12-30     -3.0\n",
      "2020-12-31     -3.0\n",
      "Name: TAVG, Length: 9117, dtype: float64\n"
     ]
    },
    {
     "data": {
      "image/png": "[encoded data removed]",
      "text/plain": [
       "<Figure size 432x288 with 1 Axes>"
      ]
     },
     "metadata": {
      "needs_background": "light"
     },
     "output_type": "display_data"
    }
   ],
   "source": [
    "yearlist= [twenty_sixteen, twenty_seventeen, twenty_eighteen, twenty_nineteen, twenty_twenty]\n",
    "stationlist = ['AE000041196', 'AEM00041194', 'AEM00041217', 'AEM00041218', 'AFM00040938']\n",
    "ultimatetavg = []\n",
    "\n",
    "# tavg = yearlist[1]\n",
    "# print(tavg['TAVG'])\n",
    "\n",
    "for y in range(len(yearlist)):\n",
    "    for s in range(len(stationlist)):\n",
    "        tavg = yearlist[y]\n",
    "        tavg = tavg['TAVG']\n",
    "        stationtavg = tavg.xs((stationlist[s]), level = \"station\")\n",
    "        ultimatetavg.append(stationtavg)\n",
    "        sns.lineplot(data = ultimatetavg, legend = False)\n",
    "    \n",
    "ultimatetavg = pd.concat(ultimatetavg)\n",
    "print(ultimatetavg)\n",
    "\n",
    "# hi1=twenty_sixteen[\"TAVG\"]\n",
    "# hi2=twenty_seventeen[\"TAVG\"]\n",
    "# hi3=twenty_eighteen[\"TAVG\"]\n",
    "# hi4=twenty_nineteen[\"TAVG\"]\n",
    "# hi5=twenty_twenty[\"TAVG\"]"
   ]
  },
  {
   "cell_type": "code",
   "execution_count": 31,
   "metadata": {},
   "outputs": [
    {
     "data": {
      "text/plain": [
       "<AxesSubplot:xlabel='date'>"
      ]
     },
     "execution_count": 31,
     "metadata": {},
     "output_type": "execute_result"
    },
    {
     "data": {
      "image/png": "[encoded data removed]",
      "text/plain": [
       "<Figure size 432x288 with 1 Axes>"
      ]
     },
     "metadata": {
      "needs_background": "light"
     },
     "output_type": "display_data"
    }
   ],
   "source": [
    "sns.lineplot(data = ultimatetavg)"
   ]
  },
  {
   "cell_type": "code",
   "execution_count": null,
   "metadata": {},
   "outputs": [],
   "source": [
    "a1 = hi1.xs((\"AE000041196\"), level = \"station\")\n",
    "a2 = hi2.xs((\"AE000041196\"), level = \"station\")\n",
    "a3 = hi3.xs((\"AE000041196\"), level = \"station\")\n",
    "a4 = hi4.xs((\"AE000041196\"), level = \"station\")\n",
    "a5 = hi5.xs((\"AE000041196\"), level = \"station\")\n",
    "\n",
    "bruh = np.concatenate((a1,a2,a3,a4,a5))"
   ]
  },
  {
   "cell_type": "code",
   "execution_count": null,
   "metadata": {},
   "outputs": [],
   "source": [
    "b1 = hi1.xs((\"AEM00041194\"), level = \"station\")\n",
    "b2 = hi2.xs((\"AEM00041194\"), level = \"station\")\n",
    "b3 = hi3.xs((\"AEM00041194\"), level = \"station\")\n",
    "b4 = hi4.xs((\"AEM00041194\"), level = \"station\")\n",
    "b5 = hi5.xs((\"AEM00041194\"), level = \"station\")\n",
    "\n",
    "bruh2 = np.concatenate((b1,b2,b3,b4,b5))"
   ]
  },
  {
   "cell_type": "code",
   "execution_count": null,
   "metadata": {},
   "outputs": [],
   "source": [
    "c1 = hi1.xs((\"AEM00041217\"), level = \"station\")\n",
    "c2 = hi2.xs((\"AEM00041217\"), level = \"station\")\n",
    "c3 = hi3.xs((\"AEM00041217\"), level = \"station\")\n",
    "c4 = hi4.xs((\"AEM00041217\"), level = \"station\")\n",
    "c5 = hi5.xs((\"AEM00041217\"), level = \"station\")\n",
    "\n",
    "bruh3 = np.concatenate((c1,c2,c3,c4,c5))"
   ]
  },
  {
   "cell_type": "code",
   "execution_count": null,
   "metadata": {},
   "outputs": [],
   "source": [
    "d1 = hi1.xs((\"AEM00041218\"), level = \"station\")\n",
    "d2 = hi2.xs((\"AEM00041218\"), level = \"station\")\n",
    "d3 = hi3.xs((\"AEM00041218\"), level = \"station\")\n",
    "d4 = hi4.xs((\"AEM00041218\"), level = \"station\")\n",
    "d5 = hi5.xs((\"AEM00041218\"), level = \"station\")\n",
    "\n",
    "bruh4 = np.concatenate((d1,d2,d3,d4,d5))"
   ]
  },
  {
   "cell_type": "code",
   "execution_count": null,
   "metadata": {},
   "outputs": [],
   "source": [
    "e1 = hi1.xs((\"AFM00040938\"), level = \"station\")\n",
    "e2 = hi2.xs((\"AFM00040938\"), level = \"station\")\n",
    "e3 = hi3.xs((\"AFM00040938\"), level = \"station\")\n",
    "e4 = hi4.xs((\"AFM00040938\"), level = \"station\")\n",
    "e5 = hi5.xs((\"AFM00040938\"), level = \"station\")\n",
    "\n",
    "bruh5 = np.concatenate((e1,e2,e3,e4,e5))"
   ]
  },
  {
   "cell_type": "code",
   "execution_count": null,
   "metadata": {},
   "outputs": [],
   "source": [
    "sns.lineplot(data = bruh)\n",
    "sns.lineplot(data = bruh2)\n",
    "sns.lineplot(data = bruh3)\n",
    "sns.lineplot(data = bruh4)\n",
    "sns.lineplot(data = bruh5)"
   ]
  },
  {
   "cell_type": "code",
   "execution_count": null,
   "metadata": {},
   "outputs": [],
   "source": [
    "plt.plot(bruh, alpha=0.40)\n",
    "plt.plot(bruh2, alpha=0.40)\n",
    "plt.plot(bruh3, alpha=0.40)\n",
    "plt.plot(bruh4, alpha=0.40)\n",
    "plt.plot(bruh5, alpha=0.40)"
   ]
  },
  {
   "cell_type": "markdown",
   "metadata": {},
   "source": [
    "## PRCP"
   ]
  },
  {
   "cell_type": "code",
   "execution_count": null,
   "metadata": {},
   "outputs": [],
   "source": [
    "prcp1=twenty_sixteen[\"PRCP\"]\n",
    "prcp2=twenty_seventeen[\"PRCP\"]\n",
    "prcp3=twenty_eighteen[\"PRCP\"]\n",
    "prcp4=twenty_nineteen[\"PRCP\"]\n",
    "prcp5=twenty_twenty[\"PRCP\"]"
   ]
  },
  {
   "cell_type": "code",
   "execution_count": null,
   "metadata": {},
   "outputs": [],
   "source": [
    "a1 = prcp1.xs((\"AE000041196\"), level = \"station\")\n",
    "a2 = prcp2.xs((\"AE000041196\"), level = \"station\")\n",
    "a3 = prcp3.xs((\"AE000041196\"), level = \"station\")\n",
    "a4 = prcp4.xs((\"AE000041196\"), level = \"station\")\n",
    "a5 = prcp5.xs((\"AE000041196\"), level = \"station\")\n",
    "\n",
    "prcpstation1 = np.concatenate((a1,a2,a3,a4,a5))"
   ]
  },
  {
   "cell_type": "code",
   "execution_count": null,
   "metadata": {},
   "outputs": [],
   "source": [
    "b1 = prcp1.xs((\"AEM00041194\"), level = \"station\")\n",
    "b2 = prcp2.xs((\"AEM00041194\"), level = \"station\")\n",
    "b3 = prcp3.xs((\"AEM00041194\"), level = \"station\")\n",
    "b4 = prcp4.xs((\"AEM00041194\"), level = \"station\")\n",
    "b5 = prcp5.xs((\"AEM00041194\"), level = \"station\")\n",
    "\n",
    "prcpstation2 = np.concatenate((b1,b2,b3,b4,b5))"
   ]
  },
  {
   "cell_type": "code",
   "execution_count": null,
   "metadata": {},
   "outputs": [],
   "source": [
    "c1 = prcp1.xs((\"AEM00041217\"), level = \"station\")\n",
    "c2 = prcp2.xs((\"AEM00041217\"), level = \"station\")\n",
    "c3 = prcp3.xs((\"AEM00041217\"), level = \"station\")\n",
    "c4 = prcp4.xs((\"AEM00041217\"), level = \"station\")\n",
    "c5 = prcp5.xs((\"AEM00041217\"), level = \"station\")\n",
    "\n",
    "prcpstation3 = np.concatenate((c1,c2,c3,c4,c5))"
   ]
  },
  {
   "cell_type": "code",
   "execution_count": null,
   "metadata": {},
   "outputs": [],
   "source": [
    "d1 = prcp1.xs((\"AEM00041218\"), level = \"station\")\n",
    "d2 = prcp2.xs((\"AEM00041218\"), level = \"station\")\n",
    "d3 = prcp3.xs((\"AEM00041218\"), level = \"station\")\n",
    "d4 = prcp4.xs((\"AEM00041218\"), level = \"station\")\n",
    "d5 = prcp5.xs((\"AEM00041218\"), level = \"station\")\n",
    "\n",
    "prcpstation4 = np.concatenate((d1,d2,d3,d4,d5))"
   ]
  },
  {
   "cell_type": "code",
   "execution_count": null,
   "metadata": {},
   "outputs": [],
   "source": [
    "e1 = prcp1.xs((\"AFM00040938\"), level = \"station\")\n",
    "e2 = prcp2.xs((\"AFM00040938\"), level = \"station\")\n",
    "e3 = prcp3.xs((\"AFM00040938\"), level = \"station\")\n",
    "e4 = prcp4.xs((\"AFM00040938\"), level = \"station\")\n",
    "e5 = prcp5.xs((\"AFM00040938\"), level = \"station\")\n",
    "\n",
    "prcpstation5 = np.concatenate((e1,e2,e3,e4,e5))"
   ]
  },
  {
   "cell_type": "code",
   "execution_count": null,
   "metadata": {},
   "outputs": [],
   "source": [
    "sns.lineplot(data = prcpstation1)\n",
    "#sns.lineplot(data = prcpstation2)\n",
    "sns.lineplot(data = prcpstation3)\n",
    "sns.lineplot(data = prcpstation4)\n",
    "#sns.lineplot(data = prcpstation5)"
   ]
  },
  {
   "cell_type": "code",
   "execution_count": null,
   "metadata": {},
   "outputs": [],
   "source": [
    "twenty_sixteen[\"TAVG\"].plot(ax =\"date\", kind='line')"
   ]
  },
  {
   "cell_type": "code",
   "execution_count": null,
   "metadata": {},
   "outputs": [],
   "source": [
    "sns.lineplot(data = twenty_sixteen.iloc[: , 1:100])"
   ]
  },
  {
   "cell_type": "code",
   "execution_count": null,
   "metadata": {},
   "outputs": [],
   "source": [
    "#pd.set_option(\"display.max_rows\", None, \"display.max_columns\", None)\n",
    "parquet_hugepivot = pd.read_parquet(\"/Users/athenaye/Downloads/trial.parquet\", columns = ['TAVG'])\n",
    "#parquet_hugepivot.pivot(index = \"date\", columns = \"station\", values = \"TAVG\")\n",
    "print(parquet_hugepivot)"
   ]
  },
  {
   "cell_type": "code",
   "execution_count": null,
   "metadata": {},
   "outputs": [],
   "source": [
    "hugepivot[\"TAVG\"].memory_usage()"
   ]
  },
  {
   "cell_type": "code",
   "execution_count": null,
   "metadata": {},
   "outputs": [],
   "source": [
    "hugepivot.memory_usage()"
   ]
  },
  {
   "cell_type": "code",
   "execution_count": null,
   "metadata": {},
   "outputs": [],
   "source": [
    "hugepivot[0:5, ]"
   ]
  },
  {
   "cell_type": "code",
   "execution_count": null,
   "metadata": {},
   "outputs": [],
   "source": [
    "twenty_nineteen_sample.to_parquet(\"/Users/athenaye/Downloads/improved2019.parquet\")"
   ]
  },
  {
   "cell_type": "markdown",
   "metadata": {},
   "source": [
    "#1 Try to make the biggest pandas data frame, load into parquet   \n",
    "    then just do the right columns and all set   \n",
    "    limitations: if it gets bigger than 8gb, probably not possible   \n",
    "#2 Do first way, but try to use the Cluster    \n",
    "#3 Make a parquet file that corresponds to each csv file and then do chunking (might be easiest)  \n",
    "#4 Do the third way, use pyarrow and compile everything into a giant parquet file   \n",
    "np.isreal"
   ]
  },
  {
   "cell_type": "code",
   "execution_count": null,
   "metadata": {},
   "outputs": [],
   "source": [
    "#identifier = date and station\n",
    "#culumns = other variables\n",
    "\n",
    "parquet_s = pd.read_parquet(\"/Users/athenaye/Downloads/improved2019.parquet\", columns = ['station', 'date', 'data', 'value'])\n",
    "print(parquet_s)"
   ]
  },
  {
   "cell_type": "code",
   "execution_count": null,
   "metadata": {},
   "outputs": [],
   "source": [
    "twenty_nineteen_sample.dtypes"
   ]
  },
  {
   "cell_type": "code",
   "execution_count": null,
   "metadata": {},
   "outputs": [],
   "source": [
    "twenty_nineteen_sample.memory_usage(deep=True)"
   ]
  },
  {
   "cell_type": "code",
   "execution_count": null,
   "metadata": {},
   "outputs": [],
   "source": [
    "twenty_nineteen_sample2 = twenty_nineteen_sample.copy()\n",
    "twenty_nineteen_sample2[\"station\"] = twenty_nineteen_sample2[\"station\"].astype(\"category\")\n",
    "twenty_nineteen_sample2[\"data\"] = twenty_nineteen_sample2[\"data\"].astype(\"category\")\n",
    "twenty_nineteen_sample2.memory_usage(deep=True)"
   ]
  },
  {
   "cell_type": "code",
   "execution_count": null,
   "metadata": {},
   "outputs": [],
   "source": [
    "twenty_nineteen_sample2.dtypes"
   ]
  },
  {
   "cell_type": "code",
   "execution_count": null,
   "metadata": {},
   "outputs": [],
   "source": [
    "print(twenty_nineteen_sample.info(memory_usage=\"deep\"))\n",
    "print(twenty_nineteen_sample2.info(memory_usage=\"deep\"))"
   ]
  },
  {
   "cell_type": "code",
   "execution_count": null,
   "metadata": {},
   "outputs": [],
   "source": [
    "twenty_nineteen_sample2.to_csv(r'/Users/athenaye/Downloads/improved2019.csv', index = 'FALSE')"
   ]
  },
  {
   "cell_type": "code",
   "execution_count": null,
   "metadata": {},
   "outputs": [],
   "source": [
    "#np.where(twenty_nineteen_sample['data']=='TAVG')\n",
    "pivottable = twenty_nineteen_sample[twenty_nineteen_sample['data']=='TAVG']\n",
    "#daynumber = list(range(365))\n",
    "#pivottable['Day Number'] = daynumber\n",
    "pivottable"
   ]
  },
  {
   "cell_type": "code",
   "execution_count": null,
   "metadata": {},
   "outputs": [],
   "source": [
    "wideform = pivottable.pivot(index = \"date\", columns = \"station\", values = \"value\")\n",
    "#daynumber = list(range(365))\n",
    "#wideform['Day Number'] = daynumber\n",
    "wideform\n",
    "#adjustedwideform = wideform.pivot(index = \"Day Number\", columns = \"station\", values = \"value\")"
   ]
  },
  {
   "cell_type": "code",
   "execution_count": null,
   "metadata": {
    "scrolled": false
   },
   "outputs": [],
   "source": [
    "import seaborn as sns\n",
    "sns.lineplot(data = wideform.iloc[: , 1:100]/10, legend=False)\n",
    "plt.title(\"Average Temperature\")\n",
    "#sns.lineplot(wideform['Day Number'], wideform[:, 1:10])"
   ]
  },
  {
   "cell_type": "code",
   "execution_count": null,
   "metadata": {
    "scrolled": true
   },
   "outputs": [],
   "source": [
    "fftdata = np.fft.fft(wideform.iloc[: , :], axis=0)\n",
    "plt.plot(np.nanmean(fftdata.real, axis=1)[1:100])\n",
    "plt.plot((fftdata.real[1:]))\n",
    "plt.title(\"Average Temperature\")\n",
    "\n",
    "#plt.plot(np.mean(wideform.iloc[: , 1:5], axis=1))"
   ]
  },
  {
   "cell_type": "code",
   "execution_count": null,
   "metadata": {},
   "outputs": [],
   "source": [
    "twenty_nineteen_sample['date'] = pd.to_datetime(twenty_nineteen_sample['date'], format='%Y%m%d')\n",
    "tmin = twenty_nineteen_sample[twenty_nineteen_sample['data']=='TMIN']\n",
    "tminwideform = tmin.pivot(index = \"date\", columns = \"station\", values = \"value\")"
   ]
  },
  {
   "cell_type": "code",
   "execution_count": null,
   "metadata": {},
   "outputs": [],
   "source": [
    "import seaborn as sns\n",
    "sns.lineplot(data = tminwideform.iloc[: , 1:5]/10)\n",
    "plt.title(\"Minumum Temperature\")"
   ]
  },
  {
   "cell_type": "code",
   "execution_count": null,
   "metadata": {},
   "outputs": [],
   "source": [
    "tminfftdata = np.fft.fft(tminwideform.iloc[: , :], axis=0)\n",
    "plt.plot(np.nanmean(tminfftdata.real, axis=1)[1:])\n",
    "plt.title(\"Minumum Temperature\")"
   ]
  },
  {
   "cell_type": "code",
   "execution_count": null,
   "metadata": {},
   "outputs": [],
   "source": [
    "twenty_nineteen_sample['date'] = pd.to_datetime(twenty_nineteen_sample['date'], format='%Y%m%d')\n",
    "tmax = twenty_nineteen_sample[twenty_nineteen_sample['data']=='TMAX']\n",
    "tmaxwideform = tmax.pivot(index = \"date\", columns = \"station\", values = \"value\")"
   ]
  },
  {
   "cell_type": "code",
   "execution_count": null,
   "metadata": {},
   "outputs": [],
   "source": [
    "import seaborn as sns\n",
    "sns.lineplot(data = tmaxwideform.iloc[: , 1:5]/10)\n",
    "plt.title(\"Maximum Temperature\")"
   ]
  },
  {
   "cell_type": "code",
   "execution_count": null,
   "metadata": {},
   "outputs": [],
   "source": [
    "tmaxfftdata = np.fft.fft(tminwideform.iloc[: , :], axis=0)\n",
    "#plt.plot(np.nanmean(tminfftdata.real, axis=1)[1:])\n",
    "plt.plot(np.nanmean(tmaxfftdata.real, axis=1)[1:])\n",
    "plt.plot((tmaxfftdata.real[1:]))\n",
    "plt.title(\"Maximum Temperature\")\n",
    "#plt.plot(np.nanmean(fftdata.real, axis=1)[1:])"
   ]
  },
  {
   "cell_type": "markdown",
   "metadata": {},
   "source": [
    "# DAILY SUMMARIES"
   ]
  },
  {
   "cell_type": "markdown",
   "metadata": {},
   "source": [
    "## Load Data"
   ]
  },
  {
   "cell_type": "code",
   "execution_count": 24,
   "metadata": {},
   "outputs": [
    {
     "ename": "FileNotFoundError",
     "evalue": "[Errno 2] No such file or directory: '/Users/athenaye/Desktop/EastCoast2019.csv'",
     "output_type": "error",
     "traceback": [
      "\u001b[0;31m---------------------------------------------------------------------------\u001b[0m",
      "\u001b[0;31mFileNotFoundError\u001b[0m                         Traceback (most recent call last)",
      "\u001b[0;32m<ipython-input-24-54b4bc10d641>\u001b[0m in \u001b[0;36m<module>\u001b[0;34m\u001b[0m\n\u001b[1;32m      1\u001b[0m \u001b[0;31m# Loading Data\u001b[0m\u001b[0;34m\u001b[0m\u001b[0;34m\u001b[0m\u001b[0;34m\u001b[0m\u001b[0m\n\u001b[1;32m      2\u001b[0m \u001b[0mlcd\u001b[0m \u001b[0;34m=\u001b[0m \u001b[0mpd\u001b[0m\u001b[0;34m.\u001b[0m\u001b[0mread_csv\u001b[0m\u001b[0;34m(\u001b[0m\u001b[0;34m\"/Users/athenaye/Desktop/2020 Daily Summaries.csv\"\u001b[0m\u001b[0;34m)\u001b[0m\u001b[0;34m\u001b[0m\u001b[0;34m\u001b[0m\u001b[0m\n\u001b[0;32m----> 3\u001b[0;31m \u001b[0meastcoast2019\u001b[0m \u001b[0;34m=\u001b[0m \u001b[0mpd\u001b[0m\u001b[0;34m.\u001b[0m\u001b[0mread_csv\u001b[0m\u001b[0;34m(\u001b[0m\u001b[0;34m\"/Users/athenaye/Desktop/EastCoast2019.csv\"\u001b[0m\u001b[0;34m)\u001b[0m\u001b[0;34m\u001b[0m\u001b[0;34m\u001b[0m\u001b[0m\n\u001b[0m\u001b[1;32m      4\u001b[0m \u001b[0mlcd\u001b[0m\u001b[0;34m[\u001b[0m\u001b[0;34m'DATE'\u001b[0m\u001b[0;34m]\u001b[0m \u001b[0;34m=\u001b[0m \u001b[0mpd\u001b[0m\u001b[0;34m.\u001b[0m\u001b[0mto_datetime\u001b[0m\u001b[0;34m(\u001b[0m\u001b[0mlcd\u001b[0m\u001b[0;34m[\u001b[0m\u001b[0;34m'DATE'\u001b[0m\u001b[0;34m]\u001b[0m\u001b[0;34m,\u001b[0m \u001b[0mformat\u001b[0m\u001b[0;34m=\u001b[0m\u001b[0;34m'%Y-%m-%d'\u001b[0m\u001b[0;34m)\u001b[0m\u001b[0;34m\u001b[0m\u001b[0;34m\u001b[0m\u001b[0m\n",
      "\u001b[0;32m~/opt/anaconda3/lib/python3.8/site-packages/pandas/io/parsers.py\u001b[0m in \u001b[0;36mread_csv\u001b[0;34m(filepath_or_buffer, sep, delimiter, header, names, index_col, usecols, squeeze, prefix, mangle_dupe_cols, dtype, engine, converters, true_values, false_values, skipinitialspace, skiprows, skipfooter, nrows, na_values, keep_default_na, na_filter, verbose, skip_blank_lines, parse_dates, infer_datetime_format, keep_date_col, date_parser, dayfirst, cache_dates, iterator, chunksize, compression, thousands, decimal, lineterminator, quotechar, quoting, doublequote, escapechar, comment, encoding, dialect, error_bad_lines, warn_bad_lines, delim_whitespace, low_memory, memory_map, float_precision)\u001b[0m\n\u001b[1;32m    684\u001b[0m     )\n\u001b[1;32m    685\u001b[0m \u001b[0;34m\u001b[0m\u001b[0m\n\u001b[0;32m--> 686\u001b[0;31m     \u001b[0;32mreturn\u001b[0m \u001b[0m_read\u001b[0m\u001b[0;34m(\u001b[0m\u001b[0mfilepath_or_buffer\u001b[0m\u001b[0;34m,\u001b[0m \u001b[0mkwds\u001b[0m\u001b[0;34m)\u001b[0m\u001b[0;34m\u001b[0m\u001b[0;34m\u001b[0m\u001b[0m\n\u001b[0m\u001b[1;32m    687\u001b[0m \u001b[0;34m\u001b[0m\u001b[0m\n\u001b[1;32m    688\u001b[0m \u001b[0;34m\u001b[0m\u001b[0m\n",
      "\u001b[0;32m~/opt/anaconda3/lib/python3.8/site-packages/pandas/io/parsers.py\u001b[0m in \u001b[0;36m_read\u001b[0;34m(filepath_or_buffer, kwds)\u001b[0m\n\u001b[1;32m    450\u001b[0m \u001b[0;34m\u001b[0m\u001b[0m\n\u001b[1;32m    451\u001b[0m     \u001b[0;31m# Create the parser.\u001b[0m\u001b[0;34m\u001b[0m\u001b[0;34m\u001b[0m\u001b[0;34m\u001b[0m\u001b[0m\n\u001b[0;32m--> 452\u001b[0;31m     \u001b[0mparser\u001b[0m \u001b[0;34m=\u001b[0m \u001b[0mTextFileReader\u001b[0m\u001b[0;34m(\u001b[0m\u001b[0mfp_or_buf\u001b[0m\u001b[0;34m,\u001b[0m \u001b[0;34m**\u001b[0m\u001b[0mkwds\u001b[0m\u001b[0;34m)\u001b[0m\u001b[0;34m\u001b[0m\u001b[0;34m\u001b[0m\u001b[0m\n\u001b[0m\u001b[1;32m    453\u001b[0m \u001b[0;34m\u001b[0m\u001b[0m\n\u001b[1;32m    454\u001b[0m     \u001b[0;32mif\u001b[0m \u001b[0mchunksize\u001b[0m \u001b[0;32mor\u001b[0m \u001b[0miterator\u001b[0m\u001b[0;34m:\u001b[0m\u001b[0;34m\u001b[0m\u001b[0;34m\u001b[0m\u001b[0m\n",
      "\u001b[0;32m~/opt/anaconda3/lib/python3.8/site-packages/pandas/io/parsers.py\u001b[0m in \u001b[0;36m__init__\u001b[0;34m(self, f, engine, **kwds)\u001b[0m\n\u001b[1;32m    944\u001b[0m             \u001b[0mself\u001b[0m\u001b[0;34m.\u001b[0m\u001b[0moptions\u001b[0m\u001b[0;34m[\u001b[0m\u001b[0;34m\"has_index_names\"\u001b[0m\u001b[0;34m]\u001b[0m \u001b[0;34m=\u001b[0m \u001b[0mkwds\u001b[0m\u001b[0;34m[\u001b[0m\u001b[0;34m\"has_index_names\"\u001b[0m\u001b[0;34m]\u001b[0m\u001b[0;34m\u001b[0m\u001b[0;34m\u001b[0m\u001b[0m\n\u001b[1;32m    945\u001b[0m \u001b[0;34m\u001b[0m\u001b[0m\n\u001b[0;32m--> 946\u001b[0;31m         \u001b[0mself\u001b[0m\u001b[0;34m.\u001b[0m\u001b[0m_make_engine\u001b[0m\u001b[0;34m(\u001b[0m\u001b[0mself\u001b[0m\u001b[0;34m.\u001b[0m\u001b[0mengine\u001b[0m\u001b[0;34m)\u001b[0m\u001b[0;34m\u001b[0m\u001b[0;34m\u001b[0m\u001b[0m\n\u001b[0m\u001b[1;32m    947\u001b[0m \u001b[0;34m\u001b[0m\u001b[0m\n\u001b[1;32m    948\u001b[0m     \u001b[0;32mdef\u001b[0m \u001b[0mclose\u001b[0m\u001b[0;34m(\u001b[0m\u001b[0mself\u001b[0m\u001b[0;34m)\u001b[0m\u001b[0;34m:\u001b[0m\u001b[0;34m\u001b[0m\u001b[0;34m\u001b[0m\u001b[0m\n",
      "\u001b[0;32m~/opt/anaconda3/lib/python3.8/site-packages/pandas/io/parsers.py\u001b[0m in \u001b[0;36m_make_engine\u001b[0;34m(self, engine)\u001b[0m\n\u001b[1;32m   1176\u001b[0m     \u001b[0;32mdef\u001b[0m \u001b[0m_make_engine\u001b[0m\u001b[0;34m(\u001b[0m\u001b[0mself\u001b[0m\u001b[0;34m,\u001b[0m \u001b[0mengine\u001b[0m\u001b[0;34m=\u001b[0m\u001b[0;34m\"c\"\u001b[0m\u001b[0;34m)\u001b[0m\u001b[0;34m:\u001b[0m\u001b[0;34m\u001b[0m\u001b[0;34m\u001b[0m\u001b[0m\n\u001b[1;32m   1177\u001b[0m         \u001b[0;32mif\u001b[0m \u001b[0mengine\u001b[0m \u001b[0;34m==\u001b[0m \u001b[0;34m\"c\"\u001b[0m\u001b[0;34m:\u001b[0m\u001b[0;34m\u001b[0m\u001b[0;34m\u001b[0m\u001b[0m\n\u001b[0;32m-> 1178\u001b[0;31m             \u001b[0mself\u001b[0m\u001b[0;34m.\u001b[0m\u001b[0m_engine\u001b[0m \u001b[0;34m=\u001b[0m \u001b[0mCParserWrapper\u001b[0m\u001b[0;34m(\u001b[0m\u001b[0mself\u001b[0m\u001b[0;34m.\u001b[0m\u001b[0mf\u001b[0m\u001b[0;34m,\u001b[0m \u001b[0;34m**\u001b[0m\u001b[0mself\u001b[0m\u001b[0;34m.\u001b[0m\u001b[0moptions\u001b[0m\u001b[0;34m)\u001b[0m\u001b[0;34m\u001b[0m\u001b[0;34m\u001b[0m\u001b[0m\n\u001b[0m\u001b[1;32m   1179\u001b[0m         \u001b[0;32melse\u001b[0m\u001b[0;34m:\u001b[0m\u001b[0;34m\u001b[0m\u001b[0;34m\u001b[0m\u001b[0m\n\u001b[1;32m   1180\u001b[0m             \u001b[0;32mif\u001b[0m \u001b[0mengine\u001b[0m \u001b[0;34m==\u001b[0m \u001b[0;34m\"python\"\u001b[0m\u001b[0;34m:\u001b[0m\u001b[0;34m\u001b[0m\u001b[0;34m\u001b[0m\u001b[0m\n",
      "\u001b[0;32m~/opt/anaconda3/lib/python3.8/site-packages/pandas/io/parsers.py\u001b[0m in \u001b[0;36m__init__\u001b[0;34m(self, src, **kwds)\u001b[0m\n\u001b[1;32m   2006\u001b[0m         \u001b[0mkwds\u001b[0m\u001b[0;34m[\u001b[0m\u001b[0;34m\"usecols\"\u001b[0m\u001b[0;34m]\u001b[0m \u001b[0;34m=\u001b[0m \u001b[0mself\u001b[0m\u001b[0;34m.\u001b[0m\u001b[0musecols\u001b[0m\u001b[0;34m\u001b[0m\u001b[0;34m\u001b[0m\u001b[0m\n\u001b[1;32m   2007\u001b[0m \u001b[0;34m\u001b[0m\u001b[0m\n\u001b[0;32m-> 2008\u001b[0;31m         \u001b[0mself\u001b[0m\u001b[0;34m.\u001b[0m\u001b[0m_reader\u001b[0m \u001b[0;34m=\u001b[0m \u001b[0mparsers\u001b[0m\u001b[0;34m.\u001b[0m\u001b[0mTextReader\u001b[0m\u001b[0;34m(\u001b[0m\u001b[0msrc\u001b[0m\u001b[0;34m,\u001b[0m \u001b[0;34m**\u001b[0m\u001b[0mkwds\u001b[0m\u001b[0;34m)\u001b[0m\u001b[0;34m\u001b[0m\u001b[0;34m\u001b[0m\u001b[0m\n\u001b[0m\u001b[1;32m   2009\u001b[0m         \u001b[0mself\u001b[0m\u001b[0;34m.\u001b[0m\u001b[0munnamed_cols\u001b[0m \u001b[0;34m=\u001b[0m \u001b[0mself\u001b[0m\u001b[0;34m.\u001b[0m\u001b[0m_reader\u001b[0m\u001b[0;34m.\u001b[0m\u001b[0munnamed_cols\u001b[0m\u001b[0;34m\u001b[0m\u001b[0;34m\u001b[0m\u001b[0m\n\u001b[1;32m   2010\u001b[0m \u001b[0;34m\u001b[0m\u001b[0m\n",
      "\u001b[0;32mpandas/_libs/parsers.pyx\u001b[0m in \u001b[0;36mpandas._libs.parsers.TextReader.__cinit__\u001b[0;34m()\u001b[0m\n",
      "\u001b[0;32mpandas/_libs/parsers.pyx\u001b[0m in \u001b[0;36mpandas._libs.parsers.TextReader._setup_parser_source\u001b[0;34m()\u001b[0m\n",
      "\u001b[0;31mFileNotFoundError\u001b[0m: [Errno 2] No such file or directory: '/Users/athenaye/Desktop/EastCoast2019.csv'"
     ]
    }
   ],
   "source": [
    "# Loading Data\n",
    "lcd = pd.read_csv(\"/Users/athenaye/Desktop/2020 Daily Summaries.csv\")\n",
    "eastcoast2019 = pd.read_csv(\"/Users/athenaye/Desktop/EastCoast2019.csv\")\n",
    "lcd['DATE'] = pd.to_datetime(lcd['DATE'], format='%Y-%m-%d')"
   ]
  },
  {
   "cell_type": "code",
   "execution_count": null,
   "metadata": {},
   "outputs": [],
   "source": [
    "np.unique(twenty_nineteen_sample['data'])"
   ]
  },
  {
   "cell_type": "markdown",
   "metadata": {},
   "source": [
    "## Precipitation"
   ]
  },
  {
   "cell_type": "code",
   "execution_count": 25,
   "metadata": {},
   "outputs": [
    {
     "ename": "NameError",
     "evalue": "name 'twenty_nineteen_sample' is not defined",
     "output_type": "error",
     "traceback": [
      "\u001b[0;31m---------------------------------------------------------------------------\u001b[0m",
      "\u001b[0;31mNameError\u001b[0m                                 Traceback (most recent call last)",
      "\u001b[0;32m<ipython-input-25-f116afdc4598>\u001b[0m in \u001b[0;36m<module>\u001b[0;34m\u001b[0m\n\u001b[1;32m      1\u001b[0m \u001b[0;31m#Pivot for Precipitation\u001b[0m\u001b[0;34m\u001b[0m\u001b[0;34m\u001b[0m\u001b[0;34m\u001b[0m\u001b[0m\n\u001b[0;32m----> 2\u001b[0;31m \u001b[0mprcpunpivoted\u001b[0m \u001b[0;34m=\u001b[0m \u001b[0mtwenty_nineteen_sample\u001b[0m\u001b[0;34m[\u001b[0m\u001b[0mtwenty_nineteen_sample\u001b[0m\u001b[0;34m[\u001b[0m\u001b[0;34m'data'\u001b[0m\u001b[0;34m]\u001b[0m\u001b[0;34m==\u001b[0m\u001b[0;34m\"PRCP\"\u001b[0m\u001b[0;34m]\u001b[0m\u001b[0;34m\u001b[0m\u001b[0;34m\u001b[0m\u001b[0m\n\u001b[0m\u001b[1;32m      3\u001b[0m \u001b[0mprcp\u001b[0m\u001b[0;34m=\u001b[0m\u001b[0mprcpunpivoted\u001b[0m\u001b[0;34m.\u001b[0m\u001b[0mpivot\u001b[0m\u001b[0;34m(\u001b[0m\u001b[0mindex\u001b[0m\u001b[0;34m=\u001b[0m\u001b[0;34m'date'\u001b[0m\u001b[0;34m,\u001b[0m \u001b[0mcolumns\u001b[0m\u001b[0;34m=\u001b[0m\u001b[0;34m\"station\"\u001b[0m\u001b[0;34m,\u001b[0m \u001b[0mvalues\u001b[0m \u001b[0;34m=\u001b[0m \u001b[0;34m\"value\"\u001b[0m\u001b[0;34m)\u001b[0m\u001b[0;34m\u001b[0m\u001b[0;34m\u001b[0m\u001b[0m\n\u001b[1;32m      4\u001b[0m \u001b[0mprcp\u001b[0m\u001b[0;34m\u001b[0m\u001b[0;34m\u001b[0m\u001b[0m\n",
      "\u001b[0;31mNameError\u001b[0m: name 'twenty_nineteen_sample' is not defined"
     ]
    }
   ],
   "source": [
    "#Pivot for Precipitation\n",
    "prcpunpivoted = twenty_nineteen_sample[twenty_nineteen_sample['data']==\"PRCP\"]\n",
    "prcp=prcpunpivoted.pivot(index='date', columns=\"station\", values = \"value\")\n",
    "prcp"
   ]
  },
  {
   "cell_type": "code",
   "execution_count": null,
   "metadata": {},
   "outputs": [],
   "source": [
    "#Precipitation Plot\n",
    "import seaborn as sns\n",
    "sns.lineplot(data = prcp.iloc[: , 1:100], legend=False)\n",
    "plt.title(\"Precipitation Plot\")"
   ]
  },
  {
   "cell_type": "code",
   "execution_count": null,
   "metadata": {},
   "outputs": [],
   "source": [
    "#Precipitation Fourier\n",
    "prcpftt = np.fft.fft(prcp.iloc[: , 1:100], axis=0)\n",
    "plt.plot((prcpftt.real)[1:])\n",
    "plt.title(\"Precipitation Fourier Transform\")\n",
    "\n",
    "#plt.plot(np.mean(wideform.iloc[: , 1:5], axis=1))"
   ]
  },
  {
   "cell_type": "markdown",
   "metadata": {},
   "source": [
    "## Snow"
   ]
  },
  {
   "cell_type": "code",
   "execution_count": null,
   "metadata": {},
   "outputs": [],
   "source": [
    "#Snow Plot\n",
    "snowunpivoted=twenty_nineteen_sample[twenty_nineteen_sample['data']==\"SNOW\"]\n",
    "snow=snowunpivoted.pivot(index='date', columns=\"station\", values = \"value\")\n",
    "sns.lineplot(data = snow.iloc[: , 1:100], legend = False)\n",
    "plt.title(\"Snow Plot\")"
   ]
  },
  {
   "cell_type": "code",
   "execution_count": null,
   "metadata": {},
   "outputs": [],
   "source": [
    "#Snow Fourier\n",
    "snowlcd = np.fft.fft(lcd.iloc[: , 6], axis=0)\n",
    "snoweastcoast = np.fft.fft(eastcoastsnow.iloc[: , :], axis=0)\n",
    "plt.plot((snowlcd.real)[1:])\n",
    "plt.plot((snoweastcoast.real)[1:])\n",
    "plt.title(\"Snow Fourier Transform\")"
   ]
  },
  {
   "cell_type": "markdown",
   "metadata": {},
   "source": [
    "## Average Temp"
   ]
  },
  {
   "cell_type": "code",
   "execution_count": null,
   "metadata": {},
   "outputs": [],
   "source": [
    "tavgunpivoted=twenty_nineteen_sample[twenty_nineteen_sample['data']==\"TAVG\"]\n",
    "tavg=tavgunpivoted.pivot(index='date', columns=\"station\", values = \"value\")\n",
    "sns.lineplot(data = tavg.iloc[: , 1:100]/10, legend = False)\n",
    "#sns.lineplot(data = eastcoasttavg.iloc[: , :], legend = False)\n",
    "plt.title(\"Average Temp Plot\")\n",
    "#average of all average temperatures each year\n",
    "# then do for every year\n",
    "#take average of each site for all time points (last 10 years)"
   ]
  },
  {
   "cell_type": "code",
   "execution_count": null,
   "metadata": {},
   "outputs": [],
   "source": [
    "tavgfourier = np.fft.fft(tavg.iloc[: , 1:100], axis=0)\n",
    "plt.plot(abs((tavgfourier.real)[1:]))\n",
    "plt.title(\"Average Temp Transform\")\n",
    "# make on 10 year long dataa set and take the fourier transform of that, for each station, and then average for all of the stations\n",
    "# label the fourier\n",
    "# take absolute value\n",
    "# fourier power spectrum\n"
   ]
  },
  {
   "cell_type": "markdown",
   "metadata": {},
   "source": [
    "## Fastest 2-minute Wind Speed "
   ]
  },
  {
   "cell_type": "code",
   "execution_count": null,
   "metadata": {},
   "outputs": [],
   "source": [
    "#Avg Wind Speed Plot\n",
    "eastcoastwsf2=eastcoast2019.pivot(index='DATE', columns=\"STATION\", values = \"WSF2\")\n",
    "sns.lineplot(data = lcd.iloc[: , 13])\n",
    "sns.lineplot(data = eastcoastwsf2.iloc[: , :], legend = False)\n",
    "plt.title(\"Fastest 2-minute Wind Speed Plot\")"
   ]
  },
  {
   "cell_type": "code",
   "execution_count": null,
   "metadata": {},
   "outputs": [],
   "source": [
    "#Avg Wind Speed Fourier\n",
    "wsf2lcd = np.fft.fft(lcd.iloc[: , 13], axis=0)\n",
    "wsf2eastcoast = np.fft.fft(eastcoastwsf2.iloc[: , :], axis=0)\n",
    "plt.plot((wsf2lcd.real)[1:])\n",
    "plt.plot((wsf2eastcoast.real)[1:])\n",
    "plt.title(\"Fastest 2-minute Wind Speed  Fourier Transform\")"
   ]
  },
  {
   "cell_type": "markdown",
   "metadata": {},
   "source": [
    "## Average Wind Speed"
   ]
  },
  {
   "cell_type": "code",
   "execution_count": null,
   "metadata": {},
   "outputs": [],
   "source": [
    "#Avg Wind Speed Plot\n",
    "eastcoastawnd=eastcoast2019.pivot(index='DATE', columns=\"STATION\", values = \"AWND\")\n",
    "sns.lineplot(data = lcd.iloc[: , 4])\n",
    "sns.lineplot(data = eastcoastawnd.iloc[: , :], legend = False)\n",
    "plt.title(\"Average Wind Speed Plot\")"
   ]
  },
  {
   "cell_type": "code",
   "execution_count": null,
   "metadata": {},
   "outputs": [],
   "source": [
    "#Snow Fourier\n",
    "awndlcd = np.fft.fft(lcd.iloc[: , 4], axis=0)\n",
    "awndeastcoast = np.fft.fft(eastcoastsnow.iloc[: , :], axis=0)\n",
    "plt.plot((awndlcd.real)[1:])\n",
    "plt.plot((awndeastcoast.real)[1:])\n",
    "plt.title(\"Snow Fourier Transform\")"
   ]
  },
  {
   "cell_type": "markdown",
   "metadata": {},
   "source": [
    "# Extra"
   ]
  },
  {
   "cell_type": "code",
   "execution_count": null,
   "metadata": {},
   "outputs": [],
   "source": [
    "import seaborn as sns\n",
    "sns.lineplot(data = lcd.iloc[: , 7])\n",
    "plt.title(\"Average Temp Plot\")"
   ]
  },
  {
   "cell_type": "code",
   "execution_count": null,
   "metadata": {},
   "outputs": [],
   "source": [
    "prcpftt = np.fft.fft(lcd.iloc[: , 7], axis=0)\n",
    "plt.plot((prcpftt.real)[1:])\n",
    "plt.title(\"Average Temp Fourier\")"
   ]
  },
  {
   "cell_type": "code",
   "execution_count": null,
   "metadata": {},
   "outputs": [],
   "source": [
    "\"michealmaalouly@gmail.com\"\n",
    "\"mbhoward@college.harvard.edu\"\n",
    "\"benjamin.hintzman@gmail.com\"\n",
    "\"franciscomarquez@college.harvard.edu\"\n",
    "\"josephrager@college.harvard.edu\"\n",
    "\"jweldon@college.harvard.edu\"\n",
    "\"liampeterson@college.harvard.edu\"\n",
    "\"davidchen@college.harvard.edu\"\n",
    "\"jrobbins@college.harvard.edu\"\n",
    "\"dqian@college.harvard.edu\"\n",
    "\"jordanroe@college.harvard.edu\"\n",
    "\"jleary@college.harvard.edu\"\n",
    "\"smarzouk@college.harvard.edu\"\n",
    "\"athenaye@college.harvard.edu\"\n",
    "hirenlemma @college.harvard.edu\n"
   ]
  }
 ],
 "metadata": {
  "kernelspec": {
   "display_name": "Python 3",
   "language": "python",
   "name": "python3"
  },
  "language_info": {
   "codemirror_mode": {
    "name": "ipython",
    "version": 3
   },
   "file_extension": ".py",
   "mimetype": "text/x-python",
   "name": "python",
   "nbconvert_exporter": "python",
   "pygments_lexer": "ipython3",
   "version": "3.8.5"
  }
 },
 "nbformat": 4,
 "nbformat_minor": 4
}
