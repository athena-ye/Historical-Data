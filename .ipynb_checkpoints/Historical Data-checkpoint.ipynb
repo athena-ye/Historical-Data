{
 "cells": [
  {
   "cell_type": "markdown",
   "metadata": {},
   "source": [
    "# Must Run"
   ]
  },
  {
   "cell_type": "code",
   "execution_count": 1,
   "metadata": {
    "scrolled": true
   },
   "outputs": [
    {
     "name": "stdout",
     "output_type": "stream",
     "text": [
      "wc: illegal option -- 1\r\n",
      "usage: wc [-clmw] [file ...]\r\n"
     ]
    }
   ],
   "source": [
    "import pandas as pd\n",
    "import numpy as np\n",
    "import matplotlib.pyplot as plt\n",
    "from datetime import datetime, timedelta\n",
    "import geopy.distance\n",
    "import seaborn as sns\n",
    "import glob\n",
    "import os\n",
    "import scipy as sci\n",
    "import scipy.signal as sig\n",
    "import scipy.spatial as spa\n",
    "import scipy.stats as stat\n",
    "from IPython.display import Audio\n",
    "wave = np.sin(2*np.pi*400*np.arange(10000*2)/10000)\n",
    "\n",
    "ex = './Historical Data/%s.csv'\n",
    "path = ex % 'LCM'\n",
    "!wc -1 $psth"
   ]
  },
  {
   "cell_type": "markdown",
   "metadata": {},
   "source": [
    "# Bird"
   ]
  },
  {
   "cell_type": "code",
   "execution_count": 2,
   "metadata": {},
   "outputs": [],
   "source": [
    "import zipfile\n",
    "with zipfile.ZipFile('./PollenandBird/Bird migration in the Mediterranean storm petrel.zip', 'r') as zip_ref:\n",
    "    zip_ref.extractall('./PollenandBird')"
   ]
  },
  {
   "cell_type": "code",
   "execution_count": 3,
   "metadata": {},
   "outputs": [
    {
     "name": "stderr",
     "output_type": "stream",
     "text": [
      "/Users/athenaye/opt/anaconda3/lib/python3.8/site-packages/IPython/core/interactiveshell.py:3146: DtypeWarning: Columns (6,7,9,10) have mixed types.Specify dtype option on import or set low_memory=False.\n",
      "  has_raised = await self.run_ast_nodes(code_ast.body, cell_name,\n",
      "<ipython-input-3-97fa22a40e5d>:16: SettingWithCopyWarning: \n",
      "A value is trying to be set on a copy of a slice from a DataFrame.\n",
      "Try using .loc[row_indexer,col_indexer] = value instead\n",
      "\n",
      "See the caveats in the documentation: https://pandas.pydata.org/pandas-docs/stable/user_guide/indexing.html#returning-a-view-versus-a-copy\n",
      "  smallpmmnumbers['Coordinates']  = list(zip(smallpmmnumbers['location-lat'], smallpmmnumbers['location-long']))\n"
     ]
    }
   ],
   "source": [
    "#upload pollen dataset as csv\n",
    "pmm = pd.read_csv('./PollenandBird/Partial migration in the Mediterranean storm petrel (BirdLife Malta).csv')\n",
    "\n",
    "#make columns manageable\n",
    "pmm['timestamp'] =  pd.to_datetime(pmm['timestamp'])\n",
    "pmm['Date'] = pmm['timestamp'].dt.date\n",
    "pmm['Time'] = pmm['timestamp'].dt.time\n",
    "pmm['Coordinates']  = list(zip(pmm['location-lat'], pmm['location-long']))\n",
    "\n",
    "#drop unwanted columns and NaNs\n",
    "smallpmm = pmm.drop(labels=['event-id', 'visible', 'timestamp',\n",
    "       'bas:confidence', 'end-timestamp', 'geolocator-fix-type',\n",
    "       'gls:light-level', 'manually-marked-outlier', 'start-timestamp',\n",
    "       'sensor-type', 'individual-taxon-canonical-name', 'individual-local-identifier', 'study-name', 'Coordinates'], axis = 1)\n",
    "smallpmmnumbers = smallpmm.dropna()\n",
    "smallpmmnumbers['Coordinates']  = list(zip(smallpmmnumbers['location-lat'], smallpmmnumbers['location-long']))\n",
    "indexedpmm = smallpmmnumbers.set_index(['tag-local-identifier'])"
   ]
  },
  {
   "cell_type": "code",
   "execution_count": 4,
   "metadata": {},
   "outputs": [],
   "source": [
    "#Make a dataset for animal 659\n",
    "sixfivenine = pd.DataFrame()\n",
    "for x in range(len(indexedpmm.index)):\n",
    "    if indexedpmm.index[x] == 'Z659':\n",
    "        sixfivenine = pd.concat([sixfivenine, indexedpmm.iloc[x]], axis = 1)\n",
    "sixfivenine = sixfivenine.T\n",
    "sixfivenine['Date'] = pd.to_datetime(sixfivenine['Date'])\n",
    "sixfivenine = sixfivenine.set_index('Date')\n",
    "sixfivenine['location-longint'] = sixfivenine['location-long'].astype(str).astype(float)\n",
    "sixfivenine['location-latint'] = sixfivenine['location-lat'].astype(str).astype(float)\n",
    "\n",
    "#group 659\n",
    "groupedsixfivenine = sixfivenine.groupby('Date')['location-longint','location-latint'].mean()\n",
    "groupedsixfivenine['MeanCoordinates']  = list(zip(groupedsixfivenine['location-latint'], groupedsixfivenine['location-longint']))"
   ]
  },
  {
   "cell_type": "code",
   "execution_count": 5,
   "metadata": {},
   "outputs": [
    {
     "ename": "NameError",
     "evalue": "name 'groupedsixfivenine' is not defined",
     "output_type": "error",
     "traceback": [
      "\u001b[0;31m---------------------------------------------------------------------------\u001b[0m",
      "\u001b[0;31mNameError\u001b[0m                                 Traceback (most recent call last)",
      "\u001b[0;32m<ipython-input-5-b43f63fca294>\u001b[0m in \u001b[0;36m<module>\u001b[0;34m\u001b[0m\n\u001b[1;32m      1\u001b[0m \u001b[0;31m#Make a plot for distance per day\u001b[0m\u001b[0;34m\u001b[0m\u001b[0;34m\u001b[0m\u001b[0;34m\u001b[0m\u001b[0m\n\u001b[0;32m----> 2\u001b[0;31m \u001b[0mdistperdayarr\u001b[0m \u001b[0;34m=\u001b[0m \u001b[0mnp\u001b[0m\u001b[0;34m.\u001b[0m\u001b[0mempty\u001b[0m\u001b[0;34m(\u001b[0m\u001b[0mlen\u001b[0m\u001b[0;34m(\u001b[0m\u001b[0mgroupedsixfivenine\u001b[0m\u001b[0;34m)\u001b[0m\u001b[0;34m)\u001b[0m\u001b[0;34m\u001b[0m\u001b[0;34m\u001b[0m\u001b[0m\n\u001b[0m\u001b[1;32m      3\u001b[0m \u001b[0;32mfor\u001b[0m \u001b[0mx\u001b[0m \u001b[0;32min\u001b[0m \u001b[0mrange\u001b[0m\u001b[0;34m(\u001b[0m\u001b[0mlen\u001b[0m\u001b[0;34m(\u001b[0m\u001b[0mgroupedsixfivenine\u001b[0m\u001b[0;34m)\u001b[0m\u001b[0;34m)\u001b[0m\u001b[0;34m:\u001b[0m\u001b[0;34m\u001b[0m\u001b[0;34m\u001b[0m\u001b[0m\n\u001b[1;32m      4\u001b[0m     \u001b[0mcoord1\u001b[0m \u001b[0;34m=\u001b[0m \u001b[0mgroupedsixfivenine\u001b[0m\u001b[0;34m[\u001b[0m\u001b[0;34m'MeanCoordinates'\u001b[0m\u001b[0;34m]\u001b[0m\u001b[0;34m.\u001b[0m\u001b[0miloc\u001b[0m\u001b[0;34m[\u001b[0m\u001b[0mx\u001b[0m\u001b[0;34m]\u001b[0m\u001b[0;34m\u001b[0m\u001b[0;34m\u001b[0m\u001b[0m\n\u001b[1;32m      5\u001b[0m     \u001b[0mcoord2\u001b[0m \u001b[0;34m=\u001b[0m \u001b[0mgroupedsixfivenine\u001b[0m\u001b[0;34m[\u001b[0m\u001b[0;34m'MeanCoordinates'\u001b[0m\u001b[0;34m]\u001b[0m\u001b[0;34m.\u001b[0m\u001b[0miloc\u001b[0m\u001b[0;34m[\u001b[0m\u001b[0mx\u001b[0m\u001b[0;34m-\u001b[0m\u001b[0;36m1\u001b[0m\u001b[0;34m]\u001b[0m\u001b[0;34m\u001b[0m\u001b[0;34m\u001b[0m\u001b[0m\n",
      "\u001b[0;31mNameError\u001b[0m: name 'groupedsixfivenine' is not defined"
     ]
    }
   ],
   "source": [
    "#Make a plot for distance per day\n",
    "distperdayarr = np.empty(len(groupedsixfivenine))\n",
    "for x in range(len(groupedsixfivenine)):\n",
    "    coord1 = groupedsixfivenine['MeanCoordinates'].iloc[x]\n",
    "    coord2 = groupedsixfivenine['MeanCoordinates'].iloc[x-1]\n",
    "    distperdayarr[x] = geopy.distance.distance(coord1, coord2).km\n",
    "distperday = pd.DataFrame(distperdayarr)\n",
    "distperday = distperday.set_index(groupedsixfivenine.index)\n",
    "plt.plot(distperday)"
   ]
  },
  {
   "cell_type": "code",
   "execution_count": null,
   "metadata": {},
   "outputs": [],
   "source": [
    "#PSD of distance per day with an NFFT of 2^8, with plt.psd() detrending the data\n",
    "a, b = plt.psd(distperday, Fs = 1, scale_by_freq = False, NFFT = 2**8, detrend = 'linear')\n",
    "distperdaydataarg = a\n",
    "distperdayindexarg = b\n",
    "zdistperdayinmeeting = stat.zscore(distperdaydataarg)"
   ]
  },
  {
   "cell_type": "code",
   "execution_count": null,
   "metadata": {},
   "outputs": [],
   "source": [
    "#PSD of distance per day with an NFFT of 2^14, with plt.psd() detrending the data\n",
    "a, b = plt.psd(distperday, Fs = 1, scale_by_freq = False, NFFT = 2**14, detrend = 'linear')"
   ]
  },
  {
   "cell_type": "code",
   "execution_count": null,
   "metadata": {},
   "outputs": [],
   "source": [
    "#PSD of distance per day with an NFFT of 2^14, with sig.detrend() detrending the data\n",
    "a, b = plt.psd(dtdistperday, Fs = 1, scale_by_freq = False, NFFT = 2**14)"
   ]
  },
  {
   "cell_type": "code",
   "execution_count": null,
   "metadata": {},
   "outputs": [],
   "source": [
    "#Detrending distance per day with sig.detrend()\n",
    "dtdistperday = sig.detrend(distperday)\n",
    "dtdistperday = pd.DataFrame(dtdistperday)\n",
    "dtadistperday,dtbdistperday = plt.psd(dtdistperday, Fs = 1, scale_by_freq = False, NFFT = 2**14 ) #in blue\n",
    "\n",
    "#Z-scored data of dist per day with sig.detrend()\n",
    "zdistperday = stat.zscore(dtdistperday)\n",
    "zdistperday = pd.DataFrame(zdistperday)\n",
    "zadistperday,zbdistperday = plt.psd(zdistperday, Fs = 1, scale_by_freq = False, NFFT = 2**14 )"
   ]
  },
  {
   "cell_type": "markdown",
   "metadata": {},
   "source": [
    "# Pollen"
   ]
  },
  {
   "cell_type": "code",
   "execution_count": null,
   "metadata": {},
   "outputs": [],
   "source": [
    "pollen = pd.read_csv('./PollenandBird/pollen.csv', index_col = 'Date')\n",
    "pollen = pollen.sort_index()\n",
    "simple = pollen.set_index(np.array(range(0,7784)))"
   ]
  },
  {
   "cell_type": "code",
   "execution_count": null,
   "metadata": {},
   "outputs": [],
   "source": [
    "#plotting two very different pollen genuses\n",
    "plt.plot(simple['Urtica'])\n",
    "plt.plot(simple['Fraxinus'])\n",
    "plt.xticks((0,7784), (1992,2018))\n",
    "plt.legend(('Urtica','Fraxinus'), loc=\"upper left\")"
   ]
  },
  {
   "cell_type": "code",
   "execution_count": null,
   "metadata": {},
   "outputs": [],
   "source": [
    "#Pollen Graph\n",
    "plt.plot(simple)\n",
    "plt.xticks((0,7784), (1992,2018))"
   ]
  },
  {
   "cell_type": "code",
   "execution_count": null,
   "metadata": {},
   "outputs": [],
   "source": [
    "#Pollen Mean\n",
    "pollenmean=pollen.mean(axis=(1))\n",
    "pollenmean"
   ]
  },
  {
   "cell_type": "code",
   "execution_count": null,
   "metadata": {},
   "outputs": [],
   "source": [
    "#PSD of pollen mean with an NFFT of 2^7\n",
    "a, b = plt.psd(pollenmean, Fs = 1, scale_by_freq = False, NFFT = 2**7)"
   ]
  },
  {
   "cell_type": "code",
   "execution_count": null,
   "metadata": {},
   "outputs": [],
   "source": [
    "#PSD of pollen mean with an NFFT of 2^14\n",
    "a, b = plt.psd(pollenmean, Fs = 1, scale_by_freq = False, NFFT = 2**14)\n",
    "pollenmeandata = a\n",
    "pollenmeanindex = b"
   ]
  },
  {
   "cell_type": "markdown",
   "metadata": {},
   "source": [
    "### Detrended and Z-Score  Pollen"
   ]
  },
  {
   "cell_type": "code",
   "execution_count": null,
   "metadata": {},
   "outputs": [],
   "source": [
    "dtpollenmean = sig.detrend(pollenmean)\n",
    "dtpollenmean = pd.DataFrame(dtpollenmean)\n",
    "dtapollenmean,dtbpollenmean = plt.psd(dtpollenmean, Fs = 1, scale_by_freq = False, NFFT = 2**14 ) #in blue\n",
    "zpollenmean = stat.zscore(dtpollenmean)\n",
    "zpollenmean = pd.DataFrame(zpollenmean)\n",
    "zapollenmean,zbpollenmean = plt.psd(zpollenmean, Fs = 1, scale_by_freq = False, NFFT = 2**14 ) #in orange"
   ]
  },
  {
   "cell_type": "markdown",
   "metadata": {},
   "source": [
    "## All Pollen"
   ]
  },
  {
   "cell_type": "code",
   "execution_count": null,
   "metadata": {},
   "outputs": [],
   "source": [
    "urtica = simple['Urtica']\n",
    "frax = simple['Fraxinus']"
   ]
  },
  {
   "cell_type": "code",
   "execution_count": null,
   "metadata": {},
   "outputs": [],
   "source": [
    "#PSD of Urtica\n",
    "a, b = plt.psd(urtica, Fs = 1, scale_by_freq = False, NFFT = 2**14)\n",
    "urticadata = a\n",
    "urticaindex = b"
   ]
  },
  {
   "cell_type": "code",
   "execution_count": null,
   "metadata": {},
   "outputs": [],
   "source": [
    "#Detrended Urtica\n",
    "dturtica = sig.detrend(urtica)\n",
    "dturtica = pd.DataFrame(dturtica)\n",
    "dtaurtica,dtburtica = plt.psd(dturtica, Fs = 1, scale_by_freq = False, NFFT = 2**14 ) #in blue\n",
    "\n",
    "#Z-scored Urtica\n",
    "zurtica = stat.zscore(dturtica)\n",
    "zurtica = pd.DataFrame(zurtica)\n",
    "zaurtica,zburtica = plt.psd(zurtica, Fs = 1, scale_by_freq = False, NFFT = 2**14 ) #in orange"
   ]
  },
  {
   "cell_type": "code",
   "execution_count": null,
   "metadata": {},
   "outputs": [],
   "source": [
    "#PSD of frax\n",
    "a, b = plt.psd(frax, Fs = 1, scale_by_freq = False, NFFT = 2**14)\n",
    "fraxdata = a\n",
    "fraxindex = b"
   ]
  },
  {
   "cell_type": "code",
   "execution_count": null,
   "metadata": {},
   "outputs": [],
   "source": [
    "#Detrended Urtica\n",
    "dtfrax = sig.detrend(frax)\n",
    "dtfrax = pd.DataFrame(dtfrax)\n",
    "dtafrax,dtbfrax = plt.psd(dtfrax, Fs = 1, scale_by_freq = False, NFFT = 2**14 ) #in blue\n",
    "\n",
    "#Z-scored Urtica\n",
    "zfrax = stat.zscore(dtfrax)\n",
    "zfrax = pd.DataFrame(zfrax)\n",
    "zafrax,zbfrax = plt.psd(zfrax, Fs = 1, scale_by_freq = False, NFFT = 2**14 ) #in orange"
   ]
  },
  {
   "cell_type": "markdown",
   "metadata": {},
   "source": [
    "# AWND"
   ]
  },
  {
   "cell_type": "code",
   "execution_count": null,
   "metadata": {},
   "outputs": [],
   "source": [
    "years = []\n",
    "stationlist = ['AQW00061705', 'FMW00040308','GQW00041415', 'RQW00011641', 'USC00244558']\n",
    "year = 0\n",
    "ultimate = pd.DataFrame()\n",
    "for f in glob.glob(\"./NOAAData/*.parquet\"):    \n",
    "    read = pd.read_parquet(f)\n",
    "    f = pd.DataFrame()\n",
    "    parameter = 'AWND'\n",
    "    if parameter in read.columns:\n",
    "        years.append(f)\n",
    "    else:\n",
    "        print(str(parameter)+ ' was not found in ' + f)\n",
    "        break\n",
    "    read = read[parameter]\n",
    "    for s in range(len(stationlist)):\n",
    "        stationtavg = read.xs((stationlist[s]), level = \"station\")\n",
    "        #print(stationtavg)\n",
    "        f['station '+str(stationlist[s])] = stationtavg\n",
    "    ultimate = pd.concat([ultimate, f])\n",
    "    print(\"Done with 1 year\")\n",
    "    year += 1\n",
    "awndoverall = ultimate.sort_values(by='date')"
   ]
  },
  {
   "cell_type": "code",
   "execution_count": null,
   "metadata": {},
   "outputs": [],
   "source": [
    "for x in range(len(awndoverall.columns)):\n",
    "    nonan = awndoverall[awndoverall.columns[x]]\n",
    "    nonan = nonan.interpolate('linear')\n",
    "    a,b = plt.psd(nonan, Fs = 1, scale_by_freq = False, NFFT = 2**14 )\n",
    "    if x == 0:\n",
    "        acumulative = a\n",
    "        bcumulative = b\n",
    "    else:\n",
    "        acumulative = np.vstack([acumulative, a])\n",
    "        bcumulative = np.vstack([bcumulative, b])\n",
    "aawndmean = acumulative.mean(axis=(0))\n",
    "bawndmean = bcumulative.mean(axis=(0))"
   ]
  },
  {
   "cell_type": "markdown",
   "metadata": {},
   "source": [
    "### Detrended"
   ]
  },
  {
   "cell_type": "code",
   "execution_count": null,
   "metadata": {},
   "outputs": [],
   "source": [
    "dtawnd = pd.DataFrame()\n",
    "zawnd = pd.DataFrame()\n",
    "for x in range(len(awndoverall.columns)):\n",
    "    dtnonan = awndoverall[awndoverall.columns[x]]\n",
    "    dtnonan = dtnonan.interpolate('linear')\n",
    "    detrend = sig.detrend(dtnonan)\n",
    "    detrend = pd.DataFrame(detrend)\n",
    "    zscore = stat.zscore(detrend)\n",
    "    zscore = pd.DataFrame(zscore)\n",
    "    zawnd = pd.concat([zawnd, zscore], axis = 1)\n",
    "    dtawnd = pd.concat([dtawnd, detrend], axis = 1)"
   ]
  },
  {
   "cell_type": "code",
   "execution_count": null,
   "metadata": {},
   "outputs": [],
   "source": [
    "for x in range(len(dtawnd.columns)):\n",
    "    dtnonan = awndoverall[awndoverall.columns[x]]\n",
    "    dtnonan = dtnonan.interpolate('linear')\n",
    "    detrend = sig.detrend(dtnonan)\n",
    "    detrend = pd.DataFrame(detrend)\n",
    "    a,b = plt.psd(detrend, Fs = 1, scale_by_freq = False, NFFT = 2**14 )\n",
    "    if x == 0:\n",
    "        acumulative = a\n",
    "        bcumulative = b\n",
    "    else:\n",
    "        acumulative = np.vstack([acumulative, a])\n",
    "        bcumulative = np.vstack([bcumulative, b])\n",
    "dtaawnd = acumulative.mean(axis=(0))\n",
    "dtbawnd = bcumulative.mean(axis=(0))"
   ]
  },
  {
   "cell_type": "markdown",
   "metadata": {},
   "source": [
    "### Z-Scored"
   ]
  },
  {
   "cell_type": "code",
   "execution_count": null,
   "metadata": {},
   "outputs": [],
   "source": [
    "for x in range(len(zawnd.columns)):\n",
    "    znonan = awndoverall[awndoverall.columns[x]]\n",
    "    znonan = znonan.interpolate('linear')\n",
    "    zscore = stat.zscore(znonan)\n",
    "    zscore = pd.DataFrame(zscore)\n",
    "    a,b = plt.psd(zscore, Fs = 1, scale_by_freq = False, NFFT = 2**14 )\n",
    "    if x == 0:\n",
    "        acumulative = a\n",
    "        bcumulative = b\n",
    "    else:\n",
    "        acumulative = np.vstack([acumulative, a])\n",
    "        bcumulative = np.vstack([bcumulative, b])\n",
    "zaawnd = acumulative.mean(axis=(0))\n",
    "zbawnd = bcumulative.mean(axis=(0))\n",
    "print(a.size)"
   ]
  },
  {
   "cell_type": "markdown",
   "metadata": {},
   "source": [
    "# TAVG"
   ]
  },
  {
   "cell_type": "code",
   "execution_count": null,
   "metadata": {},
   "outputs": [],
   "source": [
    "years = []\n",
    "stationlist = ['AE000041196', 'AEM00041194', 'AEM00041217', 'AEM00041218', 'AG000060390']\n",
    "year = 0\n",
    "ultimate = pd.DataFrame()\n",
    "for f in glob.glob(\"/Users/athenaye/Desktop/by_year_parquet_trial/*.parquet\"):    \n",
    "    read = pd.read_parquet(f)\n",
    "    f = pd.DataFrame()\n",
    "    parameter = 'TAVG'\n",
    "    if parameter in read.columns:\n",
    "        years.append(f)\n",
    "    else:\n",
    "        print(str(parameter)+ ' was not found in ' + f)\n",
    "        break\n",
    "    read = read[parameter]\n",
    "    for s in range(len(stationlist)):\n",
    "        stationtavg = read.xs((stationlist[s]), level = \"station\")\n",
    "        f['station '+str(stationlist[s])] = stationtavg\n",
    "    ultimate = pd.concat([ultimate, f])\n",
    "    print(\"Done with 1 year\")\n",
    "    year += 1\n",
    "avgoverall = ultimate.sort_values(by='date')"
   ]
  },
  {
   "cell_type": "code",
   "execution_count": null,
   "metadata": {
    "scrolled": false
   },
   "outputs": [],
   "source": [
    "for x in range(len(avgoverall.columns)):\n",
    "    nonan = avgoverall[avgoverall.columns[x]]\n",
    "    nonan = nonan.interpolate('linear')\n",
    "    a,b = plt.psd(nonan, Fs = 1, scale_by_freq = False, NFFT = 2**14 )\n",
    "    if x == 0:\n",
    "        acumulative = a\n",
    "        bcumulative = b\n",
    "    else:\n",
    "        acumulative = np.vstack([acumulative, a])\n",
    "        bcumulative = np.vstack([bcumulative, b])\n",
    "amean = acumulative.mean(axis=(0))\n",
    "bmean = bcumulative.mean(axis=(0))"
   ]
  },
  {
   "cell_type": "markdown",
   "metadata": {},
   "source": [
    "### Detrended"
   ]
  },
  {
   "cell_type": "code",
   "execution_count": null,
   "metadata": {},
   "outputs": [],
   "source": [
    "dt = pd.DataFrame()\n",
    "zmean = pd.DataFrame()\n",
    "for x in range(len(avgoverall.columns)):\n",
    "    dtnonan = avgoverall[avgoverall.columns[x]]\n",
    "    dtnonan = dtnonan.interpolate('linear')\n",
    "    detrend = sig.detrend(dtnonan)\n",
    "    detrend = pd.DataFrame(detrend)\n",
    "    zscore = stat.zscore(detrend)\n",
    "    zscore = pd.DataFrame(zscore)\n",
    "    zmean = pd.concat([zmean, zscore], axis = 1)\n",
    "    dt = pd.concat([dt, detrend], axis = 1)"
   ]
  },
  {
   "cell_type": "code",
   "execution_count": null,
   "metadata": {},
   "outputs": [],
   "source": [
    "for x in range(len(dt.columns)):\n",
    "    dtnonan = avgoverall[avgoverall.columns[x]]\n",
    "    dtnonan = dtnonan.interpolate('linear')\n",
    "    detrend = sig.detrend(dtnonan)\n",
    "    detrend = pd.DataFrame(detrend)\n",
    "    a,b = plt.psd(detrend, Fs = 1, scale_by_freq = False, NFFT = 2**14 )\n",
    "    if x == 0:\n",
    "        acumulative = a\n",
    "        bcumulative = b\n",
    "    else:\n",
    "        acumulative = np.vstack([acumulative, a])\n",
    "        bcumulative = np.vstack([bcumulative, b])\n",
    "dtamean = acumulative.mean(axis=(0))\n",
    "dtbmean = bcumulative.mean(axis=(0))"
   ]
  },
  {
   "cell_type": "markdown",
   "metadata": {},
   "source": [
    "### Z-Scored"
   ]
  },
  {
   "cell_type": "code",
   "execution_count": null,
   "metadata": {},
   "outputs": [],
   "source": [
    "for x in range(len(avgoverall.columns)):\n",
    "    znonan = avgoverall[avgoverall.columns[x]]\n",
    "    znonan = znonan.interpolate('linear')\n",
    "    zscore = stat.zscore(znonan)\n",
    "    zscore = pd.DataFrame(zscore)\n",
    "    a,b = plt.psd(zscore, Fs = 1, scale_by_freq = False, NFFT = 2**14 )\n",
    "    if x == 0:\n",
    "        acumulative = a\n",
    "        bcumulative = b\n",
    "    else:\n",
    "        acumulative = np.vstack([acumulative, a])\n",
    "        bcumulative = np.vstack([bcumulative, b])\n",
    "zamean = acumulative.mean(axis=(0))\n",
    "zbmean = bcumulative.mean(axis=(0))"
   ]
  },
  {
   "cell_type": "markdown",
   "metadata": {},
   "source": [
    "# TMAX"
   ]
  },
  {
   "cell_type": "code",
   "execution_count": null,
   "metadata": {
    "scrolled": false
   },
   "outputs": [],
   "source": [
    "years = []\n",
    "stationlist = ['AE000041196', 'AEM00041194', 'AEM00041217', 'AEM00041218', 'AG000060390']\n",
    "year = 0\n",
    "ultimate = pd.DataFrame()\n",
    "for f in glob.glob(\"/Users/athenaye/Desktop/by_year_parquet_trial/*.parquet\"):    \n",
    "    read = pd.read_parquet(f)\n",
    "    f = pd.DataFrame()\n",
    "    parameter = 'TMAX'\n",
    "    if parameter in read.columns:\n",
    "        years.append(f)\n",
    "    else:\n",
    "        print(str(parameter)+ ' was not found in ' + f)\n",
    "        break\n",
    "    read = read[parameter]\n",
    "    #print(read)\n",
    "    for s in range(len(stationlist)):\n",
    "        stationtavg = read.xs((stationlist[s]), level = \"station\")\n",
    "        #print(stationtavg)\n",
    "        f['station '+str(stationlist[s])] = stationtavg\n",
    "        #print(f)\n",
    "    ultimate = pd.concat([ultimate, f])\n",
    "    print(\"Done with 1 year\")\n",
    "    year += 1\n",
    "maxoverall = ultimate.sort_values(by='date')\n",
    "sns.lineplot(data = maxoverall, legend = False)"
   ]
  },
  {
   "cell_type": "code",
   "execution_count": null,
   "metadata": {},
   "outputs": [],
   "source": [
    "for x in range(len(maxoverall.columns)):\n",
    "    nonan = maxoverall[maxoverall.columns[x]]\n",
    "    nonan = nonan.interpolate('time', limit_direction='both')\n",
    "    a,b = plt.psd(nonan, Fs = 1, scale_by_freq = False, NFFT = 2**14 )\n",
    "    \n",
    "    if x == 0:\n",
    "        tmaxacumulative = a\n",
    "        tmaxbcumulative = b\n",
    "    else:\n",
    "        tmaxacumulative = np.vstack([tmaxacumulative, a])\n",
    "        tmaxbcumulative = np.vstack([tmaxbcumulative, b])\n",
    "tmaxamean = np.nanmean(tmaxacumulative, axis=(0))\n",
    "tmaxbmean = np.nanmean(tmaxbcumulative, axis=(0))"
   ]
  },
  {
   "cell_type": "markdown",
   "metadata": {},
   "source": [
    "### Detrended"
   ]
  },
  {
   "cell_type": "code",
   "execution_count": null,
   "metadata": {},
   "outputs": [],
   "source": [
    "dttmax = pd.DataFrame()\n",
    "ztmax = pd.DataFrame()\n",
    "for x in range(len(maxoverall.columns)):\n",
    "    dtnonan = maxoverall[maxoverall.columns[x]]\n",
    "    dtnonan = dtnonan.interpolate('linear')\n",
    "    detrend = sig.detrend(dtnonan)\n",
    "    detrend = pd.DataFrame(detrend)\n",
    "    zscore = stat.zscore(detrend)\n",
    "    zscore = pd.DataFrame(zscore)\n",
    "    ztmax = pd.concat([ztmax, zscore], axis = 1)\n",
    "    dttmax = pd.concat([dttmax, detrend], axis = 1)"
   ]
  },
  {
   "cell_type": "code",
   "execution_count": null,
   "metadata": {},
   "outputs": [],
   "source": [
    "for x in range(len(dttmax.columns)):\n",
    "    dtnonan = maxoverall[maxoverall.columns[x]]\n",
    "    dtnonan = dtnonan.interpolate('linear')\n",
    "    detrend = sig.detrend(dtnonan)\n",
    "    detrend = pd.DataFrame(detrend)\n",
    "    a,b = plt.psd(detrend, Fs = 1, scale_by_freq = False, NFFT = 2**14 )\n",
    "    if x == 0:\n",
    "        acumulative = a\n",
    "        bcumulative = b\n",
    "    else:\n",
    "        acumulative = np.vstack([acumulative, a])\n",
    "        bcumulative = np.vstack([bcumulative, b])\n",
    "dtatmax = acumulative.mean(axis=(0))\n",
    "dtbtmax = bcumulative.mean(axis=(0))"
   ]
  },
  {
   "cell_type": "markdown",
   "metadata": {},
   "source": [
    "### Z-Scored"
   ]
  },
  {
   "cell_type": "code",
   "execution_count": null,
   "metadata": {},
   "outputs": [],
   "source": [
    "for x in range(len(ztmax.columns)):\n",
    "    znonan = maxoverall[maxoverall.columns[x]]\n",
    "    znonan = znonan.interpolate('linear')\n",
    "    zscore = stat.zscore(znonan)\n",
    "    zscore = pd.DataFrame(zscore)\n",
    "    a,b = plt.psd(zscore, Fs = 1, scale_by_freq = False, NFFT = 2**14)\n",
    "    if x == 0:\n",
    "        acumulative = a\n",
    "        bcumulative = b\n",
    "    else:\n",
    "        acumulative = np.vstack([acumulative, a])\n",
    "        bcumulative = np.vstack([bcumulative, b])\n",
    "zatmax = acumulative.mean(axis=(0))\n",
    "zbtmax = bcumulative.mean(axis=(0))"
   ]
  },
  {
   "cell_type": "markdown",
   "metadata": {},
   "source": [
    "# TMIN"
   ]
  },
  {
   "cell_type": "code",
   "execution_count": null,
   "metadata": {
    "scrolled": true
   },
   "outputs": [],
   "source": [
    "years = []\n",
    "stationlist = ['AE000041196', 'AEM00041194', 'AEM00041217', 'AEM00041218', 'AG000060390']\n",
    "year = 0\n",
    "ultimate = pd.DataFrame()\n",
    "for f in glob.glob(\"/Users/athenaye/Desktop/by_year_parquet_trial/*.parquet\"):    \n",
    "    read = pd.read_parquet(f)\n",
    "    #print(f)\n",
    "    f = pd.DataFrame()\n",
    "    parameter = 'TMIN'\n",
    "    if parameter in read.columns:\n",
    "        years.append(f)\n",
    "    else:\n",
    "        print(str(parameter)+ ' was not found in ' + f)\n",
    "        break\n",
    "    read = read[parameter]\n",
    "    #print(read)\n",
    "    for s in range(len(stationlist)):\n",
    "        stationtavg = read.xs((stationlist[s]), level = \"station\")\n",
    "        #print(stationtavg)\n",
    "        f['station '+str(stationlist[s])] = stationtavg\n",
    "        #print(f)\n",
    "    ultimate = pd.concat([ultimate, f])\n",
    "    print(\"Done with 1 year\")\n",
    "    year += 1\n",
    "minoverall = ultimate.sort_values(by='date')\n",
    "sns.lineplot(data = minoverall, legend = False)"
   ]
  },
  {
   "cell_type": "code",
   "execution_count": null,
   "metadata": {},
   "outputs": [],
   "source": [
    "for x in range(len(minoverall.columns)):\n",
    "    nonan = minoverall[minoverall.columns[x]]\n",
    "    nonan = nonan.interpolate('time',limit_direction='both')\n",
    "    a,b = plt.psd(nonan, Fs = 1, scale_by_freq = False, NFFT = 2**14 )\n",
    "    \n",
    "    if x == 0:\n",
    "        tminacumulative = a\n",
    "        tminbcumulative = b\n",
    "    else:\n",
    "        tminacumulative = np.vstack([tminacumulative, a])\n",
    "        tminbcumulative = np.vstack([tminbcumulative, b])\n",
    "tminamean = np.nanmean(tminacumulative, axis=(0))\n",
    "tminbmean = np.nanmean(tminbcumulative, axis=(0))"
   ]
  },
  {
   "cell_type": "markdown",
   "metadata": {},
   "source": [
    "### Detrended"
   ]
  },
  {
   "cell_type": "code",
   "execution_count": null,
   "metadata": {
    "scrolled": true
   },
   "outputs": [],
   "source": [
    "dttmin = pd.DataFrame()\n",
    "ztmin = pd.DataFrame()\n",
    "for x in range(len(minoverall.columns)):\n",
    "    dtnonan = minoverall[minoverall.columns[x]]\n",
    "    dtnonan = dtnonan.interpolate('linear', limit_direction = 'both')\n",
    "    detrend = sig.detrend(dtnonan)\n",
    "    detrend = pd.DataFrame(detrend)\n",
    "    zscore = stat.zscore(detrend)\n",
    "    zscore = pd.DataFrame(zscore)\n",
    "    ztmin = pd.concat([ztmin, zscore], axis = 1)\n",
    "    dttmin = pd.concat([dttmin, detrend], axis = 1)"
   ]
  },
  {
   "cell_type": "code",
   "execution_count": null,
   "metadata": {},
   "outputs": [],
   "source": [
    "for x in range(len(dt.columns)):\n",
    "    dtnonan = minoverall[minoverall.columns[x]]\n",
    "    dtnonan = dtnonan.interpolate('linear', limit_direction = 'both')\n",
    "    detrend = sig.detrend(dtnonan)\n",
    "    detrend = pd.DataFrame(detrend)\n",
    "    a,b = plt.psd(detrend, Fs = 1, scale_by_freq = False, NFFT = 2**14 )\n",
    "    if x == 0:\n",
    "        acumulative = a\n",
    "        bcumulative = b\n",
    "    else:\n",
    "        acumulative = np.vstack([acumulative, a])\n",
    "        bcumulative = np.vstack([bcumulative, b])\n",
    "dtamin = acumulative.mean(axis=(0))\n",
    "dtbmin = bcumulative.mean(axis=(0))"
   ]
  },
  {
   "cell_type": "markdown",
   "metadata": {},
   "source": [
    "### Z-Scored"
   ]
  },
  {
   "cell_type": "code",
   "execution_count": null,
   "metadata": {},
   "outputs": [],
   "source": [
    "for x in range(len(minoverall.columns)):\n",
    "    znonan = minoverall[minoverall.columns[x]]\n",
    "    znonan = znonan.interpolate('linear', limit_direction = 'both')\n",
    "    zscore = stat.zscore(znonan)\n",
    "    zscore = pd.DataFrame(zscore)\n",
    "    a,b = plt.psd(zscore, Fs = 1, scale_by_freq = False, NFFT = 2**14)\n",
    "    if x == 0:\n",
    "        acumulative = a\n",
    "        bcumulative = b\n",
    "    else:\n",
    "        acumulative = np.vstack([acumulative, a])\n",
    "        bcumulative = np.vstack([bcumulative, b])\n",
    "zamin = acumulative.mean(axis=(0))\n",
    "zbmin = bcumulative.mean(axis=(0))"
   ]
  },
  {
   "cell_type": "markdown",
   "metadata": {},
   "source": [
    "# PRCP"
   ]
  },
  {
   "cell_type": "code",
   "execution_count": null,
   "metadata": {},
   "outputs": [],
   "source": [
    "years = []\n",
    "stationlist = ['AE000041196', 'AEM00041194', 'AEM00041217', 'AEM00041218', 'AG000060390']\n",
    "year = 0\n",
    "ultimate = pd.DataFrame()\n",
    "for f in glob.glob(\"/Users/athenaye/Desktop/by_year_parquet_trial/*.parquet\"):    \n",
    "    read = pd.read_parquet(f)\n",
    "    #print(f)\n",
    "    f = pd.DataFrame()\n",
    "    parameter = 'PRCP'\n",
    "    if parameter in read.columns:\n",
    "        years.append(f)\n",
    "    else:\n",
    "        print(str(parameter)+ ' was not found in ' + f)\n",
    "        break\n",
    "    read = read[parameter]\n",
    "    #print(read)\n",
    "    for s in range(len(stationlist)):\n",
    "        stationtavg = read.xs((stationlist[s]), level = \"station\")\n",
    "        #print(stationtavg)\n",
    "        f['station '+str(stationlist[s])] = stationtavg\n",
    "        #print(f)\n",
    "    ultimate = pd.concat([ultimate, f])\n",
    "    print(\"Done with 1 year\")\n",
    "    year += 1\n",
    "prcpoverall = ultimate.sort_values(by='date')\n",
    "sns.lineplot(data = prcpoverall, legend = False)"
   ]
  },
  {
   "cell_type": "code",
   "execution_count": null,
   "metadata": {},
   "outputs": [],
   "source": [
    "for x in range(len(prcpoverall.columns)):\n",
    "    nonan = prcpoverall[prcpoverall.columns[x]]\n",
    "    nonan = nonan.interpolate('time',limit_direction='both')\n",
    "    a,b = plt.psd(nonan, Fs = 1, scale_by_freq = False, NFFT = 2**14 )\n",
    "    \n",
    "    if x == 0:\n",
    "        prcpacumulative = a\n",
    "        prcpbcumulative = b\n",
    "    else:\n",
    "        prcpacumulative = np.vstack([prcpacumulative, a])\n",
    "        prcpbcumulative = np.vstack([prcpbcumulative, b])\n",
    "prcpamean = np.nanmean(prcpacumulative, axis=(0))\n",
    "prcpbmean = np.nanmean(prcpbcumulative, axis=(0))"
   ]
  },
  {
   "cell_type": "markdown",
   "metadata": {},
   "source": [
    "### Detrended"
   ]
  },
  {
   "cell_type": "code",
   "execution_count": null,
   "metadata": {},
   "outputs": [],
   "source": [
    "dtprcp = pd.DataFrame()\n",
    "zprcp = pd.DataFrame()\n",
    "for x in range(len(prcpoverall.columns)):\n",
    "    dtnonan = prcpoverall[prcpoverall.columns[x]]\n",
    "    dtnonan = dtnonan.interpolate('linear')\n",
    "    detrend = sig.detrend(dtnonan)\n",
    "    detrend = pd.DataFrame(detrend)\n",
    "    zscore = stat.zscore(detrend)\n",
    "    zscore = pd.DataFrame(zscore)\n",
    "    zprcp = pd.concat([zprcp, zscore], axis = 1)\n",
    "    dtprcp = pd.concat([dtprcp, detrend], axis = 1)"
   ]
  },
  {
   "cell_type": "code",
   "execution_count": null,
   "metadata": {},
   "outputs": [],
   "source": [
    "for x in range(len(dt.columns)):\n",
    "    dtnonan = prcpoverall[prcpoverall.columns[x]]\n",
    "    dtnonan = dtnonan.interpolate('linear')\n",
    "    detrend = sig.detrend(dtnonan)\n",
    "    detrend = pd.DataFrame(detrend)\n",
    "    a,b = plt.psd(detrend, Fs = 1, scale_by_freq = False, NFFT = 2**14 )\n",
    "    if x == 0:\n",
    "        acumulative = a\n",
    "        bcumulative = b\n",
    "    else:\n",
    "        acumulative = np.vstack([acumulative, a])\n",
    "        bcumulative = np.vstack([bcumulative, b])\n",
    "dtaprcp = acumulative.mean(axis=(0))\n",
    "dtbprcp = bcumulative.mean(axis=(0))"
   ]
  },
  {
   "cell_type": "markdown",
   "metadata": {},
   "source": [
    "### Z-Scored"
   ]
  },
  {
   "cell_type": "code",
   "execution_count": null,
   "metadata": {},
   "outputs": [],
   "source": [
    "for x in range(len(zprcp.columns)):\n",
    "    znonan = prcpoverall[prcpoverall.columns[x]]\n",
    "    znonan = znonan.interpolate('linear')\n",
    "    zscore = stat.zscore(znonan)\n",
    "    zscore = pd.DataFrame(zscore)\n",
    "    a,b = plt.psd(zscore, Fs = 1, scale_by_freq = False, NFFT = 2**14 )\n",
    "    if x == 0:\n",
    "        acumulative = a\n",
    "        bcumulative = b\n",
    "    else:\n",
    "        acumulative = np.vstack([acumulative, a])\n",
    "        bcumulative = np.vstack([bcumulative, b])\n",
    "zaprcp = acumulative.mean(axis=(0))\n",
    "zbprcp = bcumulative.mean(axis=(0))"
   ]
  },
  {
   "cell_type": "markdown",
   "metadata": {},
   "source": [
    "# Frequency vs. Power Heatmap"
   ]
  },
  {
   "cell_type": "code",
   "execution_count": null,
   "metadata": {
    "scrolled": true
   },
   "outputs": [],
   "source": [
    "param1 = ['TAVG']\n",
    "param2 = ['TMAX']\n",
    "param3 = ['TMIN']\n",
    "param4 = ['PRCP']\n",
    "param5 = ['AWND']\n",
    "param6 = ['Pollen']\n",
    "param7 = ['Urtica']\n",
    "param8 = ['Fraxinus']\n",
    "param9 = ['Bird Dist']\n",
    "\n",
    "hm1 = pd.DataFrame(data = amean, columns = param1, index = bmean)\n",
    "hm2 = pd.DataFrame(data = tmaxamean, columns = param2, index = tmaxbmean)\n",
    "hm3 = pd.DataFrame(data = tminamean, columns = param3, index = tminbmean)\n",
    "hm4 = pd.DataFrame(data = prcpamean, columns = param4, index = prcpbmean)\n",
    "hm5 = pd.DataFrame(data = aawndmean, columns = param5, index = bawndmean)\n",
    "hm6 = pd.DataFrame(data = pollenmeandata, columns = param6, index = pollenmeanindex)\n",
    "hm7 = pd.DataFrame(data = urticadata, columns = param7, index = urticaindex)\n",
    "hm8 = pd.DataFrame(data = fraxdata, columns = param8, index = fraxindex)\n",
    "hm9 = pd.DataFrame(data = distperdaydata, columns = param9, index = distperdayindex)\n",
    "hm = pd.concat([hm2, hm1, hm3, hm4, hm5, hm6, hm7, hm8, hm9], axis=1)\n",
    "loghm = np.log(hm)\n",
    "fig = sns.heatmap(loghm.T)"
   ]
  },
  {
   "cell_type": "markdown",
   "metadata": {},
   "source": [
    "# Period vs. Power Heatmap"
   ]
  },
  {
   "cell_type": "code",
   "execution_count": null,
   "metadata": {},
   "outputs": [],
   "source": [
    "param = ['TMAX', 'TAVG', 'TMIN', 'PRCP', 'AWND', 'Pollen', 'Urtica', 'Fraxinus', 'Bird Dist']\n",
    "interpolated = pd.DataFrame()\n",
    "for x in range(len(param)):\n",
    "    base = sci.interpolate.interp1d(1/hm.index[1:],hm.iloc[1:,x], kind = 'nearest')\n",
    "    xvalues = np.linspace(1,13, num = 8193, endpoint = True)\n",
    "    xvalues = xvalues[::-1]\n",
    "    xvalues = 2**xvalues\n",
    "    interparray = base(xvalues)\n",
    "    series = pd.Series(interparray, index = xvalues)\n",
    "    interpolated = pd.concat([interpolated, series], axis = 1)\n",
    "    interpolated.rename_axis('frequency')\n",
    "    interpolated.rename_axis('measurement', axis='columns')\n",
    "interpolated.columns = param"
   ]
  },
  {
   "cell_type": "code",
   "execution_count": null,
   "metadata": {},
   "outputs": [],
   "source": [
    "yvalues = np.array(range(0,8193)) #y-values\n",
    "xtickmarkloc = [2, 4, 8, 16, 32, 64, 128, 256, 365, 365*2, 365*4, 365*8, 365*16, 8192] #setting the xtickmark locations (numbers represent the period in days)\n",
    "\n",
    "x = xvalues #the x-values to interpolate along??\n",
    "y = yvalues #the y-values to interpolate along??\n",
    "f = sci.interpolate.interp1d(x, y) #interpolating \n",
    "xnew = xtickmarkloc #the desired x-values\n",
    "ynew = f(xnew) #list of values"
   ]
  },
  {
   "cell_type": "code",
   "execution_count": null,
   "metadata": {},
   "outputs": [],
   "source": [
    "s = sns.heatmap(np.log(interpolated.T), cbar_kws={'label': 'Log of Power Spectral Density'}) #creating the heatmap and labeling the color bar\n",
    "s.set_title('Power Spectral Density') #setting the heatmap title\n",
    "s.set_xlabel('Period (days)') #setting the heatmap x-axis label\n",
    "s.set_ylabel('Measurement') #setting the heatmap x-axis label\n",
    "newlabel = ['2d', '4d','8d','16d','32d','64d','128d','256d','1yr', '2yr', '4yr', '8yr', '16yr', '8192d'] #setting the x-axis labels\n",
    "plt.xticks(ynew, newlabel) #plotting the x-ticks and the newlabels"
   ]
  },
  {
   "cell_type": "markdown",
   "metadata": {},
   "source": [
    "# Detrended"
   ]
  },
  {
   "cell_type": "code",
   "execution_count": null,
   "metadata": {},
   "outputs": [],
   "source": [
    "param1 = ['TAVG']\n",
    "param2 = ['TMAX']\n",
    "param3 = ['TMIN']\n",
    "param4 = ['PRCP']\n",
    "param5 = ['AWND']\n",
    "param6 = ['Pollen']\n",
    "param7 = ['Urtica']\n",
    "param8 = ['Fraxinus']\n",
    "param9 = ['Bird Dist']\n",
    "\n",
    "dthm1 = pd.DataFrame(data = dtamean, columns = param1, index = dtbmean)\n",
    "dthm2 = pd.DataFrame(data = dtatmax, columns = param2, index = dtbtmax)\n",
    "dthm3 = pd.DataFrame(data = dtamin, columns = param3, index = dtbmin)\n",
    "dthm4 = pd.DataFrame(data = dtaprcp, columns = param4, index = dtbprcp)\n",
    "dthm5 = pd.DataFrame(data = dtaawnd, columns = param5, index = dtbawnd)\n",
    "dthm6 = pd.DataFrame(data = dtapollenmean, columns = param6, index = dtbpollenmean)\n",
    "dthm7 = pd.DataFrame(data = dtaurtica, columns = param7, index = dtburtica)\n",
    "dthm8 = pd.DataFrame(data = dtafrax, columns = param8, index = dtbfrax)\n",
    "dthm9 = pd.DataFrame(data = dtadistperday, columns = param9, index = dtbdistperday)\n",
    "dthm = pd.concat([dthm2, dthm1, dthm3, dthm4, dthm5, dthm6, dthm7, dthm8, dthm9], axis=1)\n",
    "dtloghm = np.log(dthm)"
   ]
  },
  {
   "cell_type": "code",
   "execution_count": null,
   "metadata": {},
   "outputs": [],
   "source": [
    "param = ['TMAX', 'TAVG', 'TMIN', 'PRCP', 'AWND', 'Pollen', 'Urtica', 'Fraxinus']\n",
    "dtinterpolated = pd.DataFrame()\n",
    "for x in range(len(param)):\n",
    "    base = sci.interpolate.interp1d(1/dthm.index[1:],dthm.iloc[1:,x], kind = 'nearest')\n",
    "    xvalues = np.linspace(1,13, num = 8193, endpoint = True)\n",
    "    xvalues = xvalues[::-1]\n",
    "    xvalues = 2**xvalues\n",
    "    interparray = base(xvalues)\n",
    "    series = pd.Series(interparray, index = xvalues)\n",
    "    dtinterpolated = pd.concat([dtinterpolated, series], axis = 1)\n",
    "    dtinterpolated.rename_axis('frequency')\n",
    "    dtinterpolated.rename_axis('measurement', axis='columns')\n",
    "dtinterpolated.columns = param"
   ]
  },
  {
   "cell_type": "code",
   "execution_count": null,
   "metadata": {},
   "outputs": [],
   "source": [
    "yvalues = np.array(range(0,8193)) #y-values\n",
    "xtickmarkloc = [2, 4, 8, 16, 32, 64, 128, 256, 365, 365*2, 365*4, 365*8, 365*16, 8192] #setting the xtickmark locations (numbers represent the period in days)\n",
    "\n",
    "x = xvalues #the x-values to interpolate along??\n",
    "y = yvalues #the y-values to interpolate along??\n",
    "f = sci.interpolate.interp1d(x, y) #interpolating \n",
    "xnew = xtickmarkloc #the desired x-values\n",
    "ynew = f(xnew) #list of values"
   ]
  },
  {
   "cell_type": "code",
   "execution_count": null,
   "metadata": {},
   "outputs": [],
   "source": [
    "s = sns.heatmap(np.log(dtinterpolated.T), cbar_kws={'label': 'Log of Power Spectral Density'}) #creating the heatmap and labeling the color bar\n",
    "s.set_title('Power Spectral Density') #setting the heatmap title\n",
    "s.set_xlabel('Period (days)') #setting the heatmap x-axis label\n",
    "s.set_ylabel('Measurement') #setting the heatmap y-axis label\n",
    "newlabel = ['2d', '4d','8d','16d','32d','64d','128d','256d','1yr', '2yr', '4yr', '8yr', '16yr', '8192d'] #setting the x-axis labels\n",
    "plt.xticks(ynew, newlabel) #plotting the x-ticks and the newlabels"
   ]
  },
  {
   "cell_type": "markdown",
   "metadata": {},
   "source": [
    "# Z-scored"
   ]
  },
  {
   "cell_type": "code",
   "execution_count": null,
   "metadata": {},
   "outputs": [],
   "source": [
    "param1 = ['TAVG']\n",
    "param2 = ['TMAX']\n",
    "param3 = ['TMIN']\n",
    "param4 = ['PRCP']\n",
    "param5 = ['AWND']\n",
    "param6 = ['Pollen']\n",
    "param7 = ['Urtica']\n",
    "param8 = ['Fraxinus']\n",
    "\n",
    "zhm1 = pd.DataFrame(data = zamean, columns = param1, index = zbmean)\n",
    "zhm2 = pd.DataFrame(data = zatmax, columns = param2, index = zbtmax)\n",
    "zhm3 = pd.DataFrame(data = zamin, columns = param3, index = zbmin)\n",
    "zhm4 = pd.DataFrame(data = zaprcp, columns = param4, index = zbprcp)\n",
    "zhm5 = pd.DataFrame(data = zaawnd, columns = param5, index = zbawnd)\n",
    "zhm6 = pd.DataFrame(data = zapollenmean, columns = param6, index = zbpollenmean)\n",
    "zhm7 = pd.DataFrame(data = zaurtica, columns = param7, index = zburtica)\n",
    "zhm8 = pd.DataFrame(data = zafrax, columns = param8, index = zbfrax)\n",
    "zhm = pd.concat([zhm2, zhm1, zhm3, zhm4, zhm5, zhm6, zhm7, zhm8], axis=1)\n",
    "zloghm = np.log(zhm)\n",
    "zfig = sns.heatmap(zloghm.T)"
   ]
  },
  {
   "cell_type": "code",
   "execution_count": null,
   "metadata": {},
   "outputs": [],
   "source": [
    "param = ['TMAX', 'TAVG', 'TMIN', 'PRCP', 'AWND', 'Pollen', 'Urtica', 'Fraxinus']\n",
    "zinterpolated = pd.DataFrame()\n",
    "for x in range(len(param)):\n",
    "    base = sci.interpolate.interp1d(1/zhm.index[1:],zhm.iloc[1:,x], kind = 'nearest')\n",
    "    xvalues = np.linspace(1,13, num = 8193, endpoint = True)\n",
    "    xvalues = xvalues[::-1]\n",
    "    xvalues = 2**xvalues\n",
    "    interparray = base(xvalues)\n",
    "    series = pd.Series(interparray, index = xvalues)\n",
    "    zinterpolated = pd.concat([zinterpolated, series], axis = 1)\n",
    "    zinterpolated.rename_axis('frequency')\n",
    "    zinterpolated.rename_axis('measurement', axis='columns')\n",
    "zinterpolated.columns = param"
   ]
  },
  {
   "cell_type": "code",
   "execution_count": null,
   "metadata": {},
   "outputs": [],
   "source": [
    "yvalues = np.array(range(0,8193)) #y-values\n",
    "xtickmarkloc = [2, 4, 8, 16, 32, 64, 128, 256, 365, 365*2, 365*4, 365*8, 365*16, 8192] #setting the xtickmark locations (numbers represent the period in days)\n",
    "\n",
    "x = xvalues #the x-values to interpolate along??\n",
    "y = yvalues #the y-values to interpolate along??\n",
    "f = sci.interpolate.interp1d(x, y) #interpolating \n",
    "xnew = xtickmarkloc #the desired x-values\n",
    "ynew = f(xnew) #list of values"
   ]
  },
  {
   "cell_type": "code",
   "execution_count": null,
   "metadata": {},
   "outputs": [],
   "source": [
    "s = sns.heatmap(np.log(zinterpolated.T), cbar_kws={'label': 'Log of Power Spectral Density'}) #creating the heatmap and labeling the color bar\n",
    "s.set_title('Power Spectral Density') #setting the heatmap title\n",
    "s.set_xlabel('Period (days)') #setting the heatmap x-axis label\n",
    "s.set_ylabel('Measurement') #setting the heatmap x-axis label\n",
    "newlabel = ['2d', '4d','8d','16d','32d','64d','128d','256d','1yr', '2yr', '4yr', '8yr', '16yr', '8192d'] #setting the x-axis labels\n",
    "plt.xticks(ynew, newlabel) #plotting the x-ticks and the newlabels"
   ]
  }
 ],
 "metadata": {
  "kernelspec": {
   "display_name": "Python 3",
   "language": "python",
   "name": "python3"
  },
  "language_info": {
   "codemirror_mode": {
    "name": "ipython",
    "version": 3
   },
   "file_extension": ".py",
   "mimetype": "text/x-python",
   "name": "python",
   "nbconvert_exporter": "python",
   "pygments_lexer": "ipython3",
   "version": "3.8.5"
  }
 },
 "nbformat": 4,
 "nbformat_minor": 4
}
