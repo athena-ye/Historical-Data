{
 "cells": [
  {
   "cell_type": "code",
   "execution_count": 1,
   "metadata": {},
   "outputs": [
    {
     "name": "stdout",
     "output_type": "stream",
     "text": [
      "wc: illegal option -- 1\r\n",
      "usage: wc [-clmw] [file ...]\r\n"
     ]
    }
   ],
   "source": [
    "import pandas as pd\n",
    "import numpy as np\n",
    "import matplotlib.pyplot as plt\n",
    "from datetime import datetime, timedelta\n",
    "import geopy.distance\n",
    "import seaborn as sns\n",
    "import glob\n",
    "import os\n",
    "import scipy as sci\n",
    "import scipy.signal as sig\n",
    "import scipy.spatial as spa\n",
    "import scipy.stats as stat\n",
    "from collections import Counter\n",
    "import random\n",
    "import math\n",
    "from joblib import Parallel, delayed\n",
    "import rpy2.robjects as ro\n",
    "from rpy2.robjects.packages import importr\n",
    "from rpy2.robjects import pandas2ri\n",
    "from rpy2.robjects.conversion import localconverter\n",
    "\n",
    "ex = './Historical Data/%s.csv'\n",
    "path = ex % 'LCM'\n",
    "!wc -1 $psth"
   ]
  },
  {
   "cell_type": "code",
   "execution_count": 2,
   "metadata": {},
   "outputs": [],
   "source": [
    "import rpy2\n",
    "import rpy2.robjects as robjects\n",
    "from rpy2.robjects.packages import importr"
   ]
  },
  {
   "cell_type": "code",
   "execution_count": 3,
   "metadata": {},
   "outputs": [],
   "source": [
    "base = importr('base')\n",
    "utils = importr('utils')\n",
    "stats = importr('stats')"
   ]
  },
  {
   "cell_type": "code",
   "execution_count": 4,
   "metadata": {
    "scrolled": true
   },
   "outputs": [
    {
     "name": "stderr",
     "output_type": "stream",
     "text": [
      "R[write to console]: Installing package into ‘/Users/athenaye/Library/R/4.0/library’\n",
      "(as ‘lib’ is unspecified)\n",
      "\n"
     ]
    },
    {
     "name": "stdout",
     "output_type": "stream",
     "text": [
      "\n",
      "  There is a binary version available but the source version is later:\n",
      "              binary source needs_compilation\n",
      "neonUtilities  2.1.3  2.1.4             FALSE\n",
      "\n"
     ]
    },
    {
     "name": "stderr",
     "output_type": "stream",
     "text": [
      "R[write to console]: installing the source package ‘neonUtilities’\n",
      "\n",
      "\n",
      "R[write to console]: trying URL 'https://cran.rstudio.com/src/contrib/neonUtilities_2.1.4.tar.gz'\n",
      "\n",
      "R[write to console]: Content type 'application/x-gzip'\n",
      "R[write to console]:  length 186084 bytes (181 KB)\n",
      "\n",
      "R[write to console]: =\n",
      "R[write to console]: =\n",
      "R[write to console]: =\n",
      "R[write to console]: =\n",
      "R[write to console]: =\n",
      "R[write to console]: =\n",
      "R[write to console]: =\n",
      "R[write to console]: =\n",
      "R[write to console]: =\n",
      "R[write to console]: =\n",
      "R[write to console]: =\n",
      "R[write to console]: =\n",
      "R[write to console]: =\n",
      "R[write to console]: =\n",
      "R[write to console]: =\n",
      "R[write to console]: =\n",
      "R[write to console]: =\n",
      "R[write to console]: =\n",
      "R[write to console]: =\n",
      "R[write to console]: =\n",
      "R[write to console]: =\n",
      "R[write to console]: =\n",
      "R[write to console]: =\n",
      "R[write to console]: =\n",
      "R[write to console]: =\n",
      "R[write to console]: =\n",
      "R[write to console]: =\n",
      "R[write to console]: =\n",
      "R[write to console]: =\n",
      "R[write to console]: =\n",
      "R[write to console]: =\n",
      "R[write to console]: =\n",
      "R[write to console]: =\n",
      "R[write to console]: =\n",
      "R[write to console]: =\n",
      "R[write to console]: =\n",
      "R[write to console]: =\n",
      "R[write to console]: =\n",
      "R[write to console]: =\n",
      "R[write to console]: =\n",
      "R[write to console]: =\n",
      "R[write to console]: =\n",
      "R[write to console]: =\n",
      "R[write to console]: =\n",
      "R[write to console]: =\n",
      "R[write to console]: =\n",
      "R[write to console]: =\n",
      "R[write to console]: =\n",
      "R[write to console]: =\n",
      "R[write to console]: =\n",
      "R[write to console]: \n",
      "\n",
      "R[write to console]: downloaded 181 KB\n",
      "\n",
      "\n",
      "R[write to console]: \n",
      "\n",
      "R[write to console]: \n",
      "R[write to console]: The downloaded source packages are in\n",
      "\t‘/private/var/folders/17/5ynsg_xj1rq8f9r_5pc5tgv80000gn/T/Rtmp7b1ZXs/downloaded_packages’\n",
      "R[write to console]: \n",
      "R[write to console]: \n",
      "\n"
     ]
    }
   ],
   "source": [
    "utils.install_packages('neonUtilities', repos='https://cran.rstudio.com/');"
   ]
  },
  {
   "cell_type": "code",
   "execution_count": 5,
   "metadata": {},
   "outputs": [],
   "source": [
    "neonUtilities = importr('neonUtilities')"
   ]
  },
  {
   "cell_type": "markdown",
   "metadata": {},
   "source": [
    "# Working Function"
   ]
  },
  {
   "cell_type": "code",
   "execution_count": 7,
   "metadata": {},
   "outputs": [],
   "source": [
    "dip = 'DP1.20261.001'"
   ]
  },
  {
   "cell_type": "code",
   "execution_count": null,
   "metadata": {},
   "outputs": [
    {
     "name": "stdout",
     "output_type": "stream",
     "text": [
      "Finding available files\n",
      "  |======================================================================| 100%\n",
      "\n",
      "Downloading files totaling approximately 101.304357 MB\n",
      "Downloading 29 files\n",
      "  |================================                                      |  46%"
     ]
    }
   ],
   "source": [
    "stacked = neonUtilities.loadByProduct(dpID= dip,\n",
    "                        site = 'TOMB',\n",
    "                        package='basic',\n",
    "                        check_size='FALSE',\n",
    "                        nCores = 4)"
   ]
  },
  {
   "cell_type": "code",
   "execution_count": null,
   "metadata": {},
   "outputs": [],
   "source": [
    "stacked"
   ]
  },
  {
   "cell_type": "code",
   "execution_count": 9,
   "metadata": {},
   "outputs": [],
   "source": [
    "integerval = 1"
   ]
  },
  {
   "cell_type": "code",
   "execution_count": 10,
   "metadata": {},
   "outputs": [],
   "source": [
    "with localconverter(ro.default_converter + pandas2ri.converter):\n",
    "                datainpd = ro.conversion.rpy2py(stacked[0])"
   ]
  },
  {
   "cell_type": "code",
   "execution_count": 11,
   "metadata": {},
   "outputs": [
    {
     "data": {
      "text/html": [
       "<div>\n",
       "<style scoped>\n",
       "    .dataframe tbody tr th:only-of-type {\n",
       "        vertical-align: middle;\n",
       "    }\n",
       "\n",
       "    .dataframe tbody tr th {\n",
       "        vertical-align: top;\n",
       "    }\n",
       "\n",
       "    .dataframe thead th {\n",
       "        text-align: right;\n",
       "    }\n",
       "</style>\n",
       "<table border=\"1\" class=\"dataframe\">\n",
       "  <thead>\n",
       "    <tr style=\"text-align: right;\">\n",
       "      <th></th>\n",
       "      <th>name</th>\n",
       "      <th>pubCode</th>\n",
       "      <th>description</th>\n",
       "      <th>startDate</th>\n",
       "      <th>endDate</th>\n",
       "    </tr>\n",
       "  </thead>\n",
       "  <tbody>\n",
       "    <tr>\n",
       "      <th>1</th>\n",
       "      <td>beaufortScaleWind</td>\n",
       "      <td>0-calm</td>\n",
       "      <td>Calm, smoke rises vertically</td>\n",
       "      <td>2012-01-01T00:00:00Z</td>\n",
       "      <td>-2147483648</td>\n",
       "    </tr>\n",
       "    <tr>\n",
       "      <th>2</th>\n",
       "      <td>beaufortScaleWind</td>\n",
       "      <td>1-light air</td>\n",
       "      <td>Smoke drift indicates wind direction, still wi...</td>\n",
       "      <td>2012-01-01T00:00:00Z</td>\n",
       "      <td>-2147483648</td>\n",
       "    </tr>\n",
       "    <tr>\n",
       "      <th>3</th>\n",
       "      <td>beaufortScaleWind</td>\n",
       "      <td>2-light breeze</td>\n",
       "      <td>Wind felt on face, leaves rustle, vanes begin ...</td>\n",
       "      <td>2012-01-01T00:00:00Z</td>\n",
       "      <td>-2147483648</td>\n",
       "    </tr>\n",
       "    <tr>\n",
       "      <th>4</th>\n",
       "      <td>beaufortScaleWind</td>\n",
       "      <td>3-gentle breeze</td>\n",
       "      <td>Leaves and small twigs constantly moving, ligh...</td>\n",
       "      <td>2012-01-01T00:00:00Z</td>\n",
       "      <td>-2147483648</td>\n",
       "    </tr>\n",
       "    <tr>\n",
       "      <th>5</th>\n",
       "      <td>beaufortScaleWind</td>\n",
       "      <td>4-moderate breeze</td>\n",
       "      <td>Dust, leaves, and loose paper lifted, small tr...</td>\n",
       "      <td>2012-01-01T00:00:00Z</td>\n",
       "      <td>-2147483648</td>\n",
       "    </tr>\n",
       "    <tr>\n",
       "      <th>...</th>\n",
       "      <td>...</td>\n",
       "      <td>...</td>\n",
       "      <td>...</td>\n",
       "      <td>...</td>\n",
       "      <td>...</td>\n",
       "    </tr>\n",
       "    <tr>\n",
       "      <th>82</th>\n",
       "      <td>samplingImpractical</td>\n",
       "      <td>wildlife hazard</td>\n",
       "      <td>wildlife hazard, specific hazard described in ...</td>\n",
       "      <td>2012-01-01T00:00:00Z</td>\n",
       "      <td>-2147483648</td>\n",
       "    </tr>\n",
       "    <tr>\n",
       "      <th>83</th>\n",
       "      <td>samplingImpractical</td>\n",
       "      <td>outside target flow range</td>\n",
       "      <td>selected when stream flow already has good cov...</td>\n",
       "      <td>2022-03-01T00:00:00Z</td>\n",
       "      <td>-2147483648</td>\n",
       "    </tr>\n",
       "    <tr>\n",
       "      <th>84</th>\n",
       "      <td>samplingImpractical</td>\n",
       "      <td>safety hazard</td>\n",
       "      <td>unsafe conditions at sampling location or on r...</td>\n",
       "      <td>2012-01-01T00:00:00Z</td>\n",
       "      <td>-2147483648</td>\n",
       "    </tr>\n",
       "    <tr>\n",
       "      <th>85</th>\n",
       "      <td>Yes or No choice</td>\n",
       "      <td>Y</td>\n",
       "      <td>Yes</td>\n",
       "      <td>2012-01-01T00:00:00Z</td>\n",
       "      <td>-2147483648</td>\n",
       "    </tr>\n",
       "    <tr>\n",
       "      <th>86</th>\n",
       "      <td>Yes or No choice</td>\n",
       "      <td>N</td>\n",
       "      <td>No</td>\n",
       "      <td>2012-01-01T00:00:00Z</td>\n",
       "      <td>-2147483648</td>\n",
       "    </tr>\n",
       "  </tbody>\n",
       "</table>\n",
       "<p>86 rows × 5 columns</p>\n",
       "</div>"
      ],
      "text/plain": [
       "                   name                    pubCode  \\\n",
       "1     beaufortScaleWind                     0-calm   \n",
       "2     beaufortScaleWind                1-light air   \n",
       "3     beaufortScaleWind             2-light breeze   \n",
       "4     beaufortScaleWind            3-gentle breeze   \n",
       "5     beaufortScaleWind          4-moderate breeze   \n",
       "..                  ...                        ...   \n",
       "82  samplingImpractical            wildlife hazard   \n",
       "83  samplingImpractical  outside target flow range   \n",
       "84  samplingImpractical              safety hazard   \n",
       "85     Yes or No choice                          Y   \n",
       "86     Yes or No choice                          N   \n",
       "\n",
       "                                          description             startDate  \\\n",
       "1                        Calm, smoke rises vertically  2012-01-01T00:00:00Z   \n",
       "2   Smoke drift indicates wind direction, still wi...  2012-01-01T00:00:00Z   \n",
       "3   Wind felt on face, leaves rustle, vanes begin ...  2012-01-01T00:00:00Z   \n",
       "4   Leaves and small twigs constantly moving, ligh...  2012-01-01T00:00:00Z   \n",
       "5   Dust, leaves, and loose paper lifted, small tr...  2012-01-01T00:00:00Z   \n",
       "..                                                ...                   ...   \n",
       "82  wildlife hazard, specific hazard described in ...  2012-01-01T00:00:00Z   \n",
       "83  selected when stream flow already has good cov...  2022-03-01T00:00:00Z   \n",
       "84  unsafe conditions at sampling location or on r...  2012-01-01T00:00:00Z   \n",
       "85                                                Yes  2012-01-01T00:00:00Z   \n",
       "86                                                 No  2012-01-01T00:00:00Z   \n",
       "\n",
       "       endDate  \n",
       "1  -2147483648  \n",
       "2  -2147483648  \n",
       "3  -2147483648  \n",
       "4  -2147483648  \n",
       "5  -2147483648  \n",
       "..         ...  \n",
       "82 -2147483648  \n",
       "83 -2147483648  \n",
       "84 -2147483648  \n",
       "85 -2147483648  \n",
       "86 -2147483648  \n",
       "\n",
       "[86 rows x 5 columns]"
      ]
     },
     "execution_count": 11,
     "metadata": {},
     "output_type": "execute_result"
    }
   ],
   "source": [
    "datainpd"
   ]
  },
  {
   "cell_type": "code",
   "execution_count": null,
   "metadata": {},
   "outputs": [],
   "source": [
    "datainpd.to_csv('/Users/athenaye/Desktop/alksd.csv')"
   ]
  },
  {
   "cell_type": "code",
   "execution_count": null,
   "metadata": {},
   "outputs": [],
   "source": [
    "variablelist = ['calibratedPressure', 'equivalentStage',\n",
    "                'nonSystematicUnc', 'systematicUnc', 'stageUnc', 'maxpostDischarge']\n",
    "#ALL GOOD\n",
    "sitelist = [\n",
    "'WLOU',\n",
    "'WALK',\n",
    "'TOOK',\n",
    "'TOMB',\n",
    "'TECR',\n",
    "'SYCA',\n",
    "'SUGG',\n",
    "'REDB',\n",
    "'PRPO',\n",
    "'PRLA',\n",
    "'PRIN',\n",
    "'POSE',\n",
    "'OKSR',\n",
    "'MCRA',\n",
    "'MCDI',\n",
    "'MAYF',\n",
    "'MART',\n",
    "'LIRO',\n",
    "'LEWI',\n",
    "'LECO',\n",
    "'KING',\n",
    "'HOPB',\n",
    "'GUIL',\n",
    "'FLNT',\n",
    "'CUPE',\n",
    "'CRAM',\n",
    "'COMO',\n",
    "'CARI',\n",
    "'BLWA',\n",
    "'BLUE',\n",
    "'BLDE',\n",
    "'BIGC',\n",
    "'BARC',\n",
    "'ARIK'\n",
    "]"
   ]
  },
  {
   "cell_type": "code",
   "execution_count": null,
   "metadata": {},
   "outputs": [],
   "source": [
    "fffolder = "
   ]
  },
  {
   "cell_type": "code",
   "execution_count": null,
   "metadata": {},
   "outputs": [],
   "source": [
    "def lbpdataset(slist, dp, variableint, desiredcol):\n",
    "    for x in range(len(slist)):\n",
    "        try:\n",
    "            stacked = neonUtilities.loadByProduct(dpID= dp,\n",
    "                                    site = slist[x],\n",
    "                                    package='basic',\n",
    "                                    check_size='FALSE',\n",
    "                                    nCores = 4)\n",
    "            with localconverter(ro.default_converter + pandas2ri.converter):\n",
    "                    datainpd = ro.conversion.rpy2py(stacked[variableint])\n",
    "            datainpd['startDate'] = datainpd['startDate'].astype(str)\n",
    "            intermediatelist = datainpd[\"startDate\"].str.split(' ', n= -1, expand=True)\n",
    "            datainpd[\"startDate\"] = intermediatelist[0]\n",
    "            for y in range(len(desiredcol)):\n",
    "                df = pd.DataFrame(datainpd[['siteID', 'startDate', desiredcol[y]]])\n",
    "                df = df.groupby(['siteID','startDate'], as_index=False).mean()\n",
    "                df = pd.melt(df, id_vars=['siteID','startDate'], value_vars=[desiredcol[y]])\n",
    "                df.to_csv('/Users/athenaye/Desktop/' + str(fffolder) + '/' + str(slist[x]) + str(desiredcol[y]) + '.csv')\n",
    "        except:\n",
    "            print('Something went wrong with the site ' + str(slist[x]))"
   ]
  },
  {
   "cell_type": "code",
   "execution_count": null,
   "metadata": {},
   "outputs": [],
   "source": [
    "lbpdataset(sitelist, dip, integerval, variablelist)"
   ]
  }
 ],
 "metadata": {
  "kernelspec": {
   "display_name": "Python 3",
   "language": "python",
   "name": "python3"
  },
  "language_info": {
   "codemirror_mode": {
    "name": "ipython",
    "version": 3
   },
   "file_extension": ".py",
   "mimetype": "text/x-python",
   "name": "python",
   "nbconvert_exporter": "python",
   "pygments_lexer": "ipython3",
   "version": "3.8.5"
  }
 },
 "nbformat": 4,
 "nbformat_minor": 4
}
