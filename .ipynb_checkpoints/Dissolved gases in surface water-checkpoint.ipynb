{
 "cells": [
  {
   "cell_type": "code",
   "execution_count": 1,
   "metadata": {},
   "outputs": [
    {
     "name": "stdout",
     "output_type": "stream",
     "text": [
      "wc: illegal option -- 1\r\n",
      "usage: wc [-clmw] [file ...]\r\n"
     ]
    }
   ],
   "source": [
    "import pandas as pd\n",
    "import numpy as np\n",
    "import matplotlib.pyplot as plt\n",
    "from datetime import datetime, timedelta\n",
    "import geopy.distance\n",
    "import seaborn as sns\n",
    "import glob\n",
    "import os\n",
    "import scipy as sci\n",
    "import scipy.signal as sig\n",
    "import scipy.spatial as spa\n",
    "import scipy.stats as stat\n",
    "from collections import Counter\n",
    "import random\n",
    "import math\n",
    "from joblib import Parallel, delayed\n",
    "import rpy2.robjects as ro\n",
    "from rpy2.robjects.packages import importr\n",
    "from rpy2.robjects import pandas2ri\n",
    "from rpy2.robjects.conversion import localconverter\n",
    "\n",
    "ex = './Historical Data/%s.csv'\n",
    "path = ex % 'LCM'\n",
    "!wc -1 $psth"
   ]
  },
  {
   "cell_type": "code",
   "execution_count": 2,
   "metadata": {},
   "outputs": [],
   "source": [
    "import rpy2\n",
    "import rpy2.robjects as robjects\n",
    "from rpy2.robjects.packages import importr"
   ]
  },
  {
   "cell_type": "code",
   "execution_count": 3,
   "metadata": {},
   "outputs": [],
   "source": [
    "base = importr('base')\n",
    "utils = importr('utils')\n",
    "stats = importr('stats')"
   ]
  },
  {
   "cell_type": "code",
   "execution_count": 4,
   "metadata": {
    "scrolled": true
   },
   "outputs": [
    {
     "name": "stderr",
     "output_type": "stream",
     "text": [
      "R[write to console]: Installing package into ‘/Users/athenaye/Library/R/4.0/library’\n",
      "(as ‘lib’ is unspecified)\n",
      "\n"
     ]
    },
    {
     "name": "stdout",
     "output_type": "stream",
     "text": [
      "\n",
      "  There is a binary version available but the source version is later:\n",
      "              binary source needs_compilation\n",
      "neonUtilities  2.1.3  2.1.4             FALSE\n",
      "\n"
     ]
    },
    {
     "name": "stderr",
     "output_type": "stream",
     "text": [
      "R[write to console]: installing the source package ‘neonUtilities’\n",
      "\n",
      "\n",
      "R[write to console]: trying URL 'https://cran.rstudio.com/src/contrib/neonUtilities_2.1.4.tar.gz'\n",
      "\n",
      "R[write to console]: Content type 'application/x-gzip'\n",
      "R[write to console]:  length 186084 bytes (181 KB)\n",
      "\n",
      "R[write to console]: =\n",
      "R[write to console]: =\n",
      "R[write to console]: =\n",
      "R[write to console]: =\n",
      "R[write to console]: =\n",
      "R[write to console]: =\n",
      "R[write to console]: =\n",
      "R[write to console]: =\n",
      "R[write to console]: =\n",
      "R[write to console]: =\n",
      "R[write to console]: =\n",
      "R[write to console]: =\n",
      "R[write to console]: =\n",
      "R[write to console]: =\n",
      "R[write to console]: =\n",
      "R[write to console]: =\n",
      "R[write to console]: =\n",
      "R[write to console]: =\n",
      "R[write to console]: =\n",
      "R[write to console]: =\n",
      "R[write to console]: =\n",
      "R[write to console]: =\n",
      "R[write to console]: =\n",
      "R[write to console]: =\n",
      "R[write to console]: =\n",
      "R[write to console]: =\n",
      "R[write to console]: =\n",
      "R[write to console]: =\n",
      "R[write to console]: =\n",
      "R[write to console]: =\n",
      "R[write to console]: =\n",
      "R[write to console]: =\n",
      "R[write to console]: =\n",
      "R[write to console]: =\n",
      "R[write to console]: =\n",
      "R[write to console]: =\n",
      "R[write to console]: =\n",
      "R[write to console]: =\n",
      "R[write to console]: =\n",
      "R[write to console]: =\n",
      "R[write to console]: =\n",
      "R[write to console]: =\n",
      "R[write to console]: =\n",
      "R[write to console]: =\n",
      "R[write to console]: =\n",
      "R[write to console]: =\n",
      "R[write to console]: =\n",
      "R[write to console]: =\n",
      "R[write to console]: =\n",
      "R[write to console]: =\n",
      "R[write to console]: \n",
      "\n",
      "R[write to console]: downloaded 181 KB\n",
      "\n",
      "\n",
      "R[write to console]: \n",
      "\n",
      "R[write to console]: \n",
      "R[write to console]: The downloaded source packages are in\n",
      "\t‘/private/var/folders/17/5ynsg_xj1rq8f9r_5pc5tgv80000gn/T/RtmpaDo95T/downloaded_packages’\n",
      "R[write to console]: \n",
      "R[write to console]: \n",
      "\n"
     ]
    }
   ],
   "source": [
    "utils.install_packages('neonUtilities', repos='https://cran.rstudio.com/');"
   ]
  },
  {
   "cell_type": "code",
   "execution_count": 5,
   "metadata": {},
   "outputs": [],
   "source": [
    "neonUtilities = importr('neonUtilities')"
   ]
  },
  {
   "cell_type": "markdown",
   "metadata": {},
   "source": [
    "# Working Function"
   ]
  },
  {
   "cell_type": "code",
   "execution_count": null,
   "metadata": {},
   "outputs": [],
   "source": [
    "dip = 'DP1.10017.001'"
   ]
  },
  {
   "cell_type": "code",
   "execution_count": 6,
   "metadata": {},
   "outputs": [
    {
     "name": "stdout",
     "output_type": "stream",
     "text": [
      "Finding available files\n",
      "  |======================================================================| 100%\n",
      "\n",
      "Downloading files totaling approximately 0.517824 MB\n",
      "Downloading 14 files\n",
      "  |======================================================================| 100%\n",
      "\n",
      "Unpacking zip files using 4 cores.\n",
      "  |                                                  | 0 % ~calculating   |+++++++++++++                                     | 25% ~00s           |+++++++++++++++++++++++++                         | 50% ~00s           |++++++++++++++++++++++++++++++++++++++            | 75% ~00s           |++++++++++++++++++++++++++++++++++++++++++++++++++| 100% elapsed=00s  \n",
      "File requirements do not meet the threshold for automatic parallelization. Running on single core.\n",
      "Stacking table dhp_perimagefile\n",
      "  |                                                  | 0 % ~calculating   |++++                                              | 7 % ~00s           |++++++++                                          | 14% ~00s           |+++++++++++                                       | 21% ~00s           |+++++++++++++++                                   | 29% ~00s           |++++++++++++++++++                                | 36% ~00s           |++++++++++++++++++++++                            | 43% ~00s           |+++++++++++++++++++++++++                         | 50% ~00s           |+++++++++++++++++++++++++++++                     | 57% ~00s           |+++++++++++++++++++++++++++++++++                 | 64% ~00s           |++++++++++++++++++++++++++++++++++++              | 71% ~00s           |++++++++++++++++++++++++++++++++++++++++          | 79% ~00s           |+++++++++++++++++++++++++++++++++++++++++++       | 86% ~00s           |+++++++++++++++++++++++++++++++++++++++++++++++   | 93% ~00s           |++++++++++++++++++++++++++++++++++++++++++++++++++| 100% elapsed=00s  \n",
      "Stacking table dhp_perplot\n",
      "  |                                                  | 0 % ~calculating   |++++                                              | 7 % ~00s           |++++++++                                          | 14% ~00s           |+++++++++++                                       | 21% ~00s           |+++++++++++++++                                   | 29% ~00s           |++++++++++++++++++                                | 36% ~00s           |++++++++++++++++++++++                            | 43% ~00s           |+++++++++++++++++++++++++                         | 50% ~00s           |+++++++++++++++++++++++++++++                     | 57% ~00s           |+++++++++++++++++++++++++++++++++                 | 64% ~00s           |++++++++++++++++++++++++++++++++++++              | 71% ~00s           |++++++++++++++++++++++++++++++++++++++++          | 79% ~00s           |+++++++++++++++++++++++++++++++++++++++++++       | 86% ~00s           |+++++++++++++++++++++++++++++++++++++++++++++++   | 93% ~00s           |++++++++++++++++++++++++++++++++++++++++++++++++++| 100% elapsed=00s  \n",
      "Copied the most recent publication of validation file to /stackedFiles\n",
      "Copied the most recent publication of categoricalCodes file to /stackedFiles\n",
      "Copied the most recent publication of variable definition file to /stackedFiles\n",
      "Finished: Stacked 2 data tables and 4 metadata tables!\n",
      "Stacking took 0.8122311 secs\n"
     ]
    }
   ],
   "source": [
    "#Digital hemispheric photos of plot vegetation\n",
    "stacked = neonUtilities.loadByProduct(dpID= dip,\n",
    "                        site = 'TOOL',\n",
    "                        package='basic',\n",
    "                        check_size='FALSE',\n",
    "                        nCores = 4)"
   ]
  },
  {
   "cell_type": "code",
   "execution_count": null,
   "metadata": {},
   "outputs": [],
   "source": [
    "stacked"
   ]
  },
  {
   "cell_type": "code",
   "execution_count": null,
   "metadata": {},
   "outputs": [],
   "source": [
    "integerval = 0"
   ]
  },
  {
   "cell_type": "code",
   "execution_count": null,
   "metadata": {},
   "outputs": [],
   "source": [
    "with localconverter(ro.default_converter + pandas2ri.converter):\n",
    "                datainpd = ro.conversion.rpy2py(stacked[0])"
   ]
  },
  {
   "cell_type": "code",
   "execution_count": null,
   "metadata": {},
   "outputs": [],
   "source": [
    "datainpd"
   ]
  },
  {
   "cell_type": "code",
   "execution_count": null,
   "metadata": {},
   "outputs": [],
   "source": [
    "datainpd.to_csv('/Users/athenaye/Desktop/alksd.csv')"
   ]
  },
  {
   "cell_type": "code",
   "execution_count": null,
   "metadata": {},
   "outputs": [],
   "source": [
    "variablelist = ['calibratedPressure', 'equivalentStage',\n",
    "                'nonSystematicUnc', 'systematicUnc', 'stageUnc', 'maxpostDischarge']\n",
    "sitelist = [\n",
    "'TOMB',\n",
    "'TECR',\n",
    "'SYCA',\n",
    "'REDB',\n",
    "'PRIN',\n",
    "'POSE',\n",
    "'OKSR',\n",
    "'MCRA',\n",
    "'MCDI',\n",
    "'MAYF',\n",
    "'MART',\n",
    "'LEWI',\n",
    "'LECO',\n",
    "'KING',\n",
    "'HOPB',\n",
    "'GUIL',\n",
    "'FLNT',\n",
    "'CUPE',\n",
    "'COMO',\n",
    "'CARI',\n",
    "'BLWA',\n",
    "'BLUE',\n",
    "'BLDE',\n",
    "'BIGC',\n",
    "'ARIK'\n",
    "]"
   ]
  },
  {
   "cell_type": "code",
   "execution_count": null,
   "metadata": {},
   "outputs": [],
   "source": [
    "def lbpdataset(slist, dp, variableint, desiredcol):\n",
    "    for x in range(len(slist)):\n",
    "        try:\n",
    "            stacked = neonUtilities.loadByProduct(dpID= dp,\n",
    "                                    site = slist[x],\n",
    "                                    package='basic',\n",
    "                                    check_size='FALSE',\n",
    "                                    nCores = 4)\n",
    "            with localconverter(ro.default_converter + pandas2ri.converter):\n",
    "                    datainpd = ro.conversion.rpy2py(stacked[variableint])\n",
    "            datainpd['startDate'] = datainpd['startDate'].astype(str)\n",
    "            intermediatelist = datainpd[\"startDate\"].str.split(' ', n= -1, expand=True)\n",
    "            datainpd[\"startDate\"] = intermediatelist[0]\n",
    "            for y in range(len(desiredcol)):\n",
    "                df = pd.DataFrame(datainpd[['siteID', 'startDate', desiredcol[y]]])\n",
    "                df = df.groupby(['siteID','startDate'], as_index=False).mean()\n",
    "                df = pd.melt(df, id_vars=['siteID','startDate'], value_vars=[desiredcol[y]])\n",
    "                df.to_csv('/Users/athenaye/Desktop/folder/' + str(slist[x]) + str(desiredcol[y]) + '.csv')\n",
    "        except:\n",
    "            print('Something went wrong with the site ' + str(slist[x]))"
   ]
  },
  {
   "cell_type": "code",
   "execution_count": null,
   "metadata": {},
   "outputs": [],
   "source": [
    "lbpdataset(sitelist, dip, integerval, variablelist)"
   ]
  }
 ],
 "metadata": {
  "kernelspec": {
   "display_name": "Python 3",
   "language": "python",
   "name": "python3"
  },
  "language_info": {
   "codemirror_mode": {
    "name": "ipython",
    "version": 3
   },
   "file_extension": ".py",
   "mimetype": "text/x-python",
   "name": "python",
   "nbconvert_exporter": "python",
   "pygments_lexer": "ipython3",
   "version": "3.8.5"
  }
 },
 "nbformat": 4,
 "nbformat_minor": 4
}
