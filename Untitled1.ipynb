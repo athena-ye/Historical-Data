{
 "cells": [
  {
   "cell_type": "code",
   "execution_count": 2,
   "metadata": {},
   "outputs": [
    {
     "name": "stdout",
     "output_type": "stream",
     "text": [
      "Collecting pypyodbc\n",
      "  Downloading pypyodbc-1.3.5.2.zip (25 kB)\n",
      "Requirement already satisfied: setuptools in /Users/athenaye/opt/anaconda3/lib/python3.8/site-packages (from pypyodbc) (50.3.1.post20201107)\n",
      "Building wheels for collected packages: pypyodbc\n",
      "  Building wheel for pypyodbc (setup.py) ... \u001b[?25ldone\n",
      "\u001b[?25h  Created wheel for pypyodbc: filename=pypyodbc-1.3.4-py3-none-any.whl size=22842 sha256=72c64e8fe9c9c746025f2e0e1e81ec06c943be749d27219726b3f81b91fcb9ad\n",
      "  Stored in directory: /Users/athenaye/Library/Caches/pip/wheels/b8/ad/9a/2069ebd40510b369d7af0309252feae974652186f1d0973e09\n",
      "Successfully built pypyodbc\n",
      "Installing collected packages: pypyodbc\n",
      "Successfully installed pypyodbc-1.3.4\n",
      "Note: you may need to restart the kernel to use updated packages.\n"
     ]
    }
   ],
   "source": [
    "pip install pypyodbc"
   ]
  },
  {
   "cell_type": "code",
   "execution_count": 7,
   "metadata": {},
   "outputs": [
    {
     "ename": "NameError",
     "evalue": "name '__file__' is not defined",
     "output_type": "error",
     "traceback": [
      "\u001b[0;31m---------------------------------------------------------------------------\u001b[0m",
      "\u001b[0;31mNameError\u001b[0m                                 Traceback (most recent call last)",
      "\u001b[0;32m<ipython-input-7-c36b5d99c9af>\u001b[0m in \u001b[0;36m<module>\u001b[0;34m\u001b[0m\n\u001b[1;32m     69\u001b[0m \u001b[0;34m\u001b[0m\u001b[0m\n\u001b[1;32m     70\u001b[0m     \u001b[0;31m# Copy the database to a temporary folder\u001b[0m\u001b[0;34m\u001b[0m\u001b[0;34m\u001b[0m\u001b[0;34m\u001b[0m\u001b[0m\n\u001b[0;32m---> 71\u001b[0;31m     \u001b[0mtempFolderName\u001b[0m \u001b[0;34m=\u001b[0m \u001b[0mos\u001b[0m\u001b[0;34m.\u001b[0m\u001b[0mpath\u001b[0m\u001b[0;34m.\u001b[0m\u001b[0mjoin\u001b[0m\u001b[0;34m(\u001b[0m\u001b[0mos\u001b[0m\u001b[0;34m.\u001b[0m\u001b[0mpath\u001b[0m\u001b[0;34m.\u001b[0m\u001b[0mdirname\u001b[0m\u001b[0;34m(\u001b[0m\u001b[0mDBSetupTempCopy\u001b[0m\u001b[0;34m(\u001b[0m\u001b[0mDBFolder\u001b[0m\u001b[0;34m)\u001b[0m\u001b[0;34m)\u001b[0m\u001b[0;34m)\u001b[0m\u001b[0;34m\u001b[0m\u001b[0;34m\u001b[0m\u001b[0m\n\u001b[0m\u001b[1;32m     72\u001b[0m \u001b[0;34m\u001b[0m\u001b[0m\n\u001b[1;32m     73\u001b[0m     \u001b[0;31m# Connect to the database\u001b[0m\u001b[0;34m\u001b[0m\u001b[0;34m\u001b[0m\u001b[0;34m\u001b[0m\u001b[0m\n",
      "\u001b[0;32m<ipython-input-7-c36b5d99c9af>\u001b[0m in \u001b[0;36mDBSetupTempCopy\u001b[0;34m(DBFolder)\u001b[0m\n\u001b[1;32m     10\u001b[0m \u001b[0;32mdef\u001b[0m \u001b[0mDBSetupTempCopy\u001b[0m\u001b[0;34m(\u001b[0m\u001b[0mDBFolder\u001b[0m\u001b[0;34m)\u001b[0m\u001b[0;34m:\u001b[0m\u001b[0;34m\u001b[0m\u001b[0;34m\u001b[0m\u001b[0m\n\u001b[1;32m     11\u001b[0m     \u001b[0;31m# Work out the path to our temporary folder\u001b[0m\u001b[0;34m\u001b[0m\u001b[0;34m\u001b[0m\u001b[0;34m\u001b[0m\u001b[0m\n\u001b[0;32m---> 12\u001b[0;31m     \u001b[0mtempFolderName\u001b[0m \u001b[0;34m=\u001b[0m \u001b[0mos\u001b[0m\u001b[0;34m.\u001b[0m\u001b[0mpath\u001b[0m\u001b[0;34m.\u001b[0m\u001b[0mjoin\u001b[0m\u001b[0;34m(\u001b[0m\u001b[0mos\u001b[0m\u001b[0;34m.\u001b[0m\u001b[0mpath\u001b[0m\u001b[0;34m.\u001b[0m\u001b[0mdirname\u001b[0m\u001b[0;34m(\u001b[0m\u001b[0mos\u001b[0m\u001b[0;34m.\u001b[0m\u001b[0mpath\u001b[0m\u001b[0;34m.\u001b[0m\u001b[0mabspath\u001b[0m\u001b[0;34m(\u001b[0m\u001b[0m__file__\u001b[0m\u001b[0;34m)\u001b[0m\u001b[0;34m)\u001b[0m\u001b[0;34m,\u001b[0m \u001b[0;34m\"DBTEMP\"\u001b[0m\u001b[0;34m)\u001b[0m\u001b[0;34m\u001b[0m\u001b[0;34m\u001b[0m\u001b[0m\n\u001b[0m\u001b[1;32m     13\u001b[0m \u001b[0;34m\u001b[0m\u001b[0m\n\u001b[1;32m     14\u001b[0m     \u001b[0;31m# Delete the temporary directory (if exists)\u001b[0m\u001b[0;34m\u001b[0m\u001b[0;34m\u001b[0m\u001b[0;34m\u001b[0m\u001b[0m\n",
      "\u001b[0;31mNameError\u001b[0m: name '__file__' is not defined"
     ]
    }
   ],
   "source": [
    "import os\n",
    "import shutil\n",
    "import pypyodbc\n",
    "\n",
    "\n",
    "# Set this to the full fold path of your database:\n",
    "DBFolder = \"\"\n",
    "\n",
    "\n",
    "def DBSetupTempCopy(DBFolder):\n",
    "    # Work out the path to our temporary folder\n",
    "    tempFolderName = os.path.join(os.path.dirname(os.path.abspath(__file__)), \"DBTEMP\")\n",
    "\n",
    "    # Delete the temporary directory (if exists)\n",
    "    shutil.rmtree(tempFolderName, True)\n",
    "\n",
    "    # Copy this database to the temporary directory\n",
    "    shutil.copytree(\n",
    "        DBFolder,\n",
    "        tempFolderName\n",
    "    )\n",
    "\n",
    "    # Remove existing lock files from the database\n",
    "    try:\n",
    "        shutil.move(os.path.join(tempFolderName, \"net\", \"PDOXUSRS.NET\"), os.path.join(tempFolderName, \"net\", \"REMOVED-PDOXUSRS.NET\"))\n",
    "    except:\n",
    "        pass\n",
    "\n",
    "    try:\n",
    "        shutil.move(os.path.join(tempFolderName, \"PDOXUSRS.LCK\"), os.path.join(tempFolderName, \"REMOVED-PDOXUSRS.LCK\"))\n",
    "    except:\n",
    "        pass\n",
    "\n",
    "    try:\n",
    "        shutil.move(os.path.join(tempFolderName, \"PARADOX.LCK\"), os.path.join(tempFolderName, \"REMOVED-PARADOX.LCK\"))\n",
    "    except:\n",
    "        pass\n",
    "    \n",
    "    return tempFolderName\n",
    "\n",
    "def DBConnect(folder):\n",
    "    # Setup Paradox SQL DB Connection and return a cursor\n",
    "    \n",
    "    SQLConnectionString = r\"Driver={{Microsoft Paradox Driver (*.db )\\}};DriverID=538;Fil=Paradox 7.X;DefaultDir={0};Dbq={0};CollatingSequence=ASCII;\".format(folder)\n",
    "\n",
    "    dbConn = pypyodbc.connect(SQLConnectionString, autocommit=True)\n",
    "    return dbConn.cursor()\n",
    "\n",
    "def DBQuery(cur, query, params = []):\n",
    "    # Run a DB Query and return the results as a list of dicts\n",
    "    \n",
    "    cur.execute(query, params)\n",
    "    headers = [ item[0] for item in cur.description ]\n",
    "    returndata = []\n",
    "    \n",
    "    for x in cur:\n",
    "        thisrow = {}\n",
    "        for i, y in enumerate(x):\n",
    "            thisrow[headers[i]] = y\n",
    "        \n",
    "        returndata.append(thisrow)\n",
    "    \n",
    "    return returndata\n",
    "\n",
    "\n",
    "\n",
    "\n",
    "if __name__ == \"__main__\":\n",
    "\n",
    "    # Copy the database to a temporary folder\n",
    "    tempFolderName = DBSetupTempCopy(DBFolder)\n",
    "\n",
    "    # Connect to the database\n",
    "    cur = DBConnect(tempFolderName)\n",
    "\n",
    "    # Perform a sample DB Query and print it\n",
    "    print DBQuery(cur, \"SELECT CategoryID, CatName FROM Category\"\"\", [])\n",
    "\n",
    "    cur.close()"
   ]
  },
  {
   "cell_type": "code",
   "execution_count": null,
   "metadata": {},
   "outputs": [],
   "source": []
  }
 ],
 "metadata": {
  "kernelspec": {
   "display_name": "Python 3",
   "language": "python",
   "name": "python3"
  },
  "language_info": {
   "codemirror_mode": {
    "name": "ipython",
    "version": 3
   },
   "file_extension": ".py",
   "mimetype": "text/x-python",
   "name": "python",
   "nbconvert_exporter": "python",
   "pygments_lexer": "ipython3",
   "version": "3.8.5"
  }
 },
 "nbformat": 4,
 "nbformat_minor": 4
}
